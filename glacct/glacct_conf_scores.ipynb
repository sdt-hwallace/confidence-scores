{
 "cells": [
  {
   "cell_type": "code",
   "execution_count": 1,
   "id": "fbfa0fde-1538-4db1-9e1f-424d26a56c2c",
   "metadata": {},
   "outputs": [],
   "source": [
    "import os\n",
    "import sys\n",
    "from os.path import join, abspath\n",
    "import argparse\n",
    "import re\n",
    "import pandas as pd\n",
    "from sklearn.feature_extraction.text import TfidfVectorizer, TfidfTransformer, CountVectorizer\n",
    "from sklearn.svm import LinearSVC\n",
    "from sklearn.preprocessing import OrdinalEncoder\n",
    "from sklearn.calibration import CalibratedClassifierCV\n",
    "from scipy.sparse import hstack\n",
    "\n",
    "import glob\n",
    "import numpy as np\n",
    "\n",
    "import matplotlib.pyplot as plt\n",
    "from sklearn.calibration import CalibrationDisplay\n",
    "from sklearn.metrics import roc_auc_score\n",
    "import seaborn as sns\n",
    "\n",
    "from collections import Counter\n",
    "\n",
    "os.chdir('C:/Users/hwallace/python/sds_utils/shared/src')\n",
    "sys.path.append(abspath('../..'))\n",
    "from shared.src.data_access.external_db_connections import get_snowflake_database_connection, get_database_connection\n",
    "from shared.src.config.analysis_config import AnalysisConfig\n",
    "\n",
    "from shared.src.table_objects.snowflake_schemas.model import TGLACCOUNTNORMALIZATIONTRAINER\n",
    "\n",
    "import requests\n",
    "import json\n",
    "import time"
   ]
  },
  {
   "cell_type": "markdown",
   "id": "689ba219-8ff1-42fb-a643-1743f136431f",
   "metadata": {},
   "source": [
    "## Data Prep and Exploration"
   ]
  },
  {
   "cell_type": "code",
   "execution_count": 2,
   "id": "f7efc071-f672-42fb-8ed2-453028fba879",
   "metadata": {},
   "outputs": [],
   "source": [
    "path = f\"C:/Users/hwallace/glaccount/results\""
   ]
  },
  {
   "cell_type": "code",
   "execution_count": 3,
   "id": "9a9aaf7d-1874-4ab0-88e2-773d3337d85c",
   "metadata": {},
   "outputs": [],
   "source": [
    "all_files = glob.glob(os.path.join(path, '*.xlsx'))"
   ]
  },
  {
   "cell_type": "code",
   "execution_count": 4,
   "id": "955c1976-3a03-4729-be33-3cb4e59cfcb0",
   "metadata": {},
   "outputs": [
    {
     "data": {
      "text/plain": [
       "['C:/Users/hwallace/glaccount/results\\\\1259 GL Account Final.xlsx',\n",
       " 'C:/Users/hwallace/glaccount/results\\\\2022.06.14 gl_accounts existing clients.xlsx',\n",
       " 'C:/Users/hwallace/glaccount/results\\\\GL New Accounts 10.13.22.xlsx',\n",
       " 'C:/Users/hwallace/glaccount/results\\\\GL New Accounts 11.4.22.xlsx',\n",
       " 'C:/Users/hwallace/glaccount/results\\\\GL New Accounts 8.11.22.xlsx',\n",
       " 'C:/Users/hwallace/glaccount/results\\\\GL New Accounts 9.14.22.xlsx',\n",
       " 'C:/Users/hwallace/glaccount/results\\\\GL New Clients 10.24.22.xlsx',\n",
       " 'C:/Users/hwallace/glaccount/results\\\\GL New Clients 10.4.22.xlsx',\n",
       " 'C:/Users/hwallace/glaccount/results\\\\GL New Clients 5.12.22.xlsx',\n",
       " 'C:/Users/hwallace/glaccount/results\\\\GL New Clients 6.1.22.xlsx',\n",
       " 'C:/Users/hwallace/glaccount/results\\\\gl_accounts_202206 ji edits.xlsx',\n",
       " 'C:/Users/hwallace/glaccount/results\\\\gl_accounts_2734_2957 _8.1.22.xlsx',\n",
       " 'C:/Users/hwallace/glaccount/results\\\\gl_accounts_3175_8.1.22.xlsx',\n",
       " 'C:/Users/hwallace/glaccount/results\\\\gl_accounts_7.29.22.xlsx',\n",
       " 'C:/Users/hwallace/glaccount/results\\\\gl_accounts_existing 5.11.22.xlsx',\n",
       " 'C:/Users/hwallace/glaccount/results\\\\gl_accounts_new clients 5.2.22.xlsx',\n",
       " 'C:/Users/hwallace/glaccount/results\\\\gl_accounts_SkyLakes3177 8.8.22.xlsx',\n",
       " 'C:/Users/hwallace/glaccount/results\\\\St Francis post conversion GL 9.8.22.xlsx',\n",
       " 'C:/Users/hwallace/glaccount/results\\\\UHHS GL Accounts 5.27.22.xlsx',\n",
       " 'C:/Users/hwallace/glaccount/results\\\\VCU GL 7.28.22.xlsx',\n",
       " 'C:/Users/hwallace/glaccount/results\\\\Wellstar_gl_accounts.xlsx']"
      ]
     },
     "execution_count": 4,
     "metadata": {},
     "output_type": "execute_result"
    }
   ],
   "source": [
    "all_files"
   ]
  },
  {
   "cell_type": "code",
   "execution_count": 5,
   "id": "b0d51a0f-a051-47d5-acff-d829789b38de",
   "metadata": {},
   "outputs": [
    {
     "data": {
      "text/plain": [
       "21"
      ]
     },
     "execution_count": 5,
     "metadata": {},
     "output_type": "execute_result"
    }
   ],
   "source": [
    "len(all_files)"
   ]
  },
  {
   "cell_type": "code",
   "execution_count": 6,
   "id": "d65c6eef-f700-41d3-b065-893a4a8d0fcb",
   "metadata": {
    "tags": []
   },
   "outputs": [],
   "source": [
    "dd = {}\n",
    "d = {}\n",
    "for i, file in enumerate(all_files):\n",
    "    dd[i] = pd.read_excel(file, engine=\"openpyxl\", sheet_name=None)\n",
    "    d[i] =  pd.concat(dd[i].values(), ignore_index=True)\n",
    "    d[i] = d[i].rename({\"Jen's Review\": 'Review'}, axis=1)\n",
    "    d[i].loc[d[i]['LineItem'] == d[i]['Review'], 'Review'] = np.NaN\n",
    "    d[i]['file'] = file"
   ]
  },
  {
   "cell_type": "code",
   "execution_count": 7,
   "id": "27bf2708-c2fe-4e88-8b81-d8796f09e621",
   "metadata": {},
   "outputs": [
    {
     "data": {
      "text/plain": [
       "dict_keys([0, 1, 2, 3, 4, 5, 6, 7, 8, 9, 10, 11, 12, 13, 14, 15, 16, 17, 18, 19, 20])"
      ]
     },
     "execution_count": 7,
     "metadata": {},
     "output_type": "execute_result"
    }
   ],
   "source": [
    "d.keys()"
   ]
  },
  {
   "cell_type": "code",
   "execution_count": 8,
   "id": "1993664a-4719-422b-9402-46a585a2254b",
   "metadata": {},
   "outputs": [],
   "source": [
    "l = []\n",
    "for i in range(len(d)):\n",
    "    l = l + list(d[i].columns)"
   ]
  },
  {
   "cell_type": "code",
   "execution_count": 9,
   "id": "78556889-490a-4c1d-b68e-8338851b3814",
   "metadata": {},
   "outputs": [
    {
     "data": {
      "text/plain": [
       "Counter({'OrgPin': 21,\n",
       "         'AccountID': 21,\n",
       "         'AccountCode': 21,\n",
       "         'Description': 21,\n",
       "         'GLRollup': 21,\n",
       "         'GLDollars': 21,\n",
       "         'LineItem': 21,\n",
       "         'Review': 21,\n",
       "         'SPAccountRollupCategory': 21,\n",
       "         'SPAccountRollupName': 21,\n",
       "         'OBDollarsFinancialReporting': 21,\n",
       "         'DSSAccountRollup1Name': 21,\n",
       "         'Category': 21,\n",
       "         'Section': 21,\n",
       "         'Statement': 21,\n",
       "         'IsDollarF': 13,\n",
       "         'IsStat': 13,\n",
       "         'file': 21,\n",
       "         'OrgAccntID': 1,\n",
       "         'OBDollarsFinancialReportingCategory': 1})"
      ]
     },
     "execution_count": 9,
     "metadata": {},
     "output_type": "execute_result"
    }
   ],
   "source": [
    "Counter(l)"
   ]
  },
  {
   "cell_type": "code",
   "execution_count": 10,
   "id": "6472de1a-7b2f-4fb3-a577-731e9ceffb37",
   "metadata": {},
   "outputs": [],
   "source": [
    "## 10.24 has one org with nothing\n",
    "## 10.4 has one org with nothing 1259\n",
    "## 5.05 has nothing in any of the orgs\n",
    "## 7.8 and ji edits both have the same number of rows (?)\n",
    "## ji edits seems to be correct"
   ]
  },
  {
   "cell_type": "code",
   "execution_count": 11,
   "id": "a3dc2729-14e3-4442-a003-47005d052906",
   "metadata": {},
   "outputs": [
    {
     "name": "stdout",
     "output_type": "stream",
     "text": [
      "file # 0\n",
      "file C:/Users/hwallace/glaccount/results\\1259 GL Account Final.xlsx\n",
      "length: 2278\n",
      "review nulls: 0.43239683933274803\n",
      "number of dupes 0\n",
      "\n",
      "file # 1\n",
      "file C:/Users/hwallace/glaccount/results\\2022.06.14 gl_accounts existing clients.xlsx\n",
      "length: 955\n",
      "review nulls: 0.5884816753926702\n",
      "number of dupes 0\n",
      "\n",
      "file # 2\n",
      "file C:/Users/hwallace/glaccount/results\\GL New Accounts 10.13.22.xlsx\n",
      "length: 688\n",
      "review nulls: 0.5973837209302325\n",
      "number of dupes 0\n",
      "\n",
      "file # 3\n",
      "file C:/Users/hwallace/glaccount/results\\GL New Accounts 11.4.22.xlsx\n",
      "length: 394\n",
      "review nulls: 0.631979695431472\n",
      "number of dupes 0\n",
      "\n",
      "file # 4\n",
      "file C:/Users/hwallace/glaccount/results\\GL New Accounts 8.11.22.xlsx\n",
      "length: 1711\n",
      "review nulls: 0.33489187609585036\n",
      "number of dupes 0\n",
      "\n",
      "file # 5\n",
      "file C:/Users/hwallace/glaccount/results\\GL New Accounts 9.14.22.xlsx\n",
      "length: 1517\n",
      "review nulls: 0.26697429136453527\n",
      "number of dupes 0\n",
      "\n",
      "file # 6\n",
      "file C:/Users/hwallace/glaccount/results\\GL New Clients 10.24.22.xlsx\n",
      "length: 292\n",
      "review nulls: 0.7054794520547946\n",
      "number of dupes 0\n",
      "\n",
      "file # 7\n",
      "file C:/Users/hwallace/glaccount/results\\GL New Clients 10.4.22.xlsx\n",
      "length: 2816\n",
      "review nulls: 0.6036931818181818\n",
      "number of dupes 0\n",
      "\n",
      "file # 8\n",
      "file C:/Users/hwallace/glaccount/results\\GL New Clients 5.12.22.xlsx\n",
      "length: 2947\n",
      "review nulls: 0.6868001357312521\n",
      "number of dupes 0\n",
      "\n",
      "file # 9\n",
      "file C:/Users/hwallace/glaccount/results\\GL New Clients 6.1.22.xlsx\n",
      "length: 5173\n",
      "review nulls: 0.574908177073265\n",
      "number of dupes 0\n",
      "\n",
      "file # 10\n",
      "file C:/Users/hwallace/glaccount/results\\gl_accounts_202206 ji edits.xlsx\n",
      "length: 6735\n",
      "review nulls: 0.45374907201187825\n",
      "number of dupes 0\n",
      "\n",
      "file # 11\n",
      "file C:/Users/hwallace/glaccount/results\\gl_accounts_2734_2957 _8.1.22.xlsx\n",
      "length: 5449\n",
      "review nulls: 0.27527986786566344\n",
      "number of dupes 0\n",
      "\n",
      "file # 12\n",
      "file C:/Users/hwallace/glaccount/results\\gl_accounts_3175_8.1.22.xlsx\n",
      "length: 255\n",
      "review nulls: 0.803921568627451\n",
      "number of dupes 0\n",
      "\n",
      "file # 13\n",
      "file C:/Users/hwallace/glaccount/results\\gl_accounts_7.29.22.xlsx\n",
      "length: 805\n",
      "review nulls: 0.4608695652173913\n",
      "number of dupes 0\n",
      "\n",
      "file # 14\n",
      "file C:/Users/hwallace/glaccount/results\\gl_accounts_existing 5.11.22.xlsx\n",
      "length: 2605\n",
      "review nulls: 0.5032629558541267\n",
      "number of dupes 0\n",
      "\n",
      "file # 15\n",
      "file C:/Users/hwallace/glaccount/results\\gl_accounts_new clients 5.2.22.xlsx\n",
      "length: 3361\n",
      "review nulls: 0.572448675989289\n",
      "number of dupes 0\n",
      "\n",
      "file # 16\n",
      "file C:/Users/hwallace/glaccount/results\\gl_accounts_SkyLakes3177 8.8.22.xlsx\n",
      "length: 31\n",
      "review nulls: 0.6774193548387096\n",
      "number of dupes 0\n",
      "\n",
      "file # 17\n",
      "file C:/Users/hwallace/glaccount/results\\St Francis post conversion GL 9.8.22.xlsx\n",
      "length: 479\n",
      "review nulls: 0.9665970772442589\n",
      "number of dupes 0\n",
      "\n",
      "file # 18\n",
      "file C:/Users/hwallace/glaccount/results\\UHHS GL Accounts 5.27.22.xlsx\n",
      "length: 36924\n",
      "review nulls: 0.6888744448055465\n",
      "number of dupes 0\n",
      "\n",
      "file # 19\n",
      "file C:/Users/hwallace/glaccount/results\\VCU GL 7.28.22.xlsx\n",
      "length: 1378\n",
      "review nulls: 0.634978229317852\n",
      "number of dupes 0\n",
      "\n",
      "file # 20\n",
      "file C:/Users/hwallace/glaccount/results\\Wellstar_gl_accounts.xlsx\n",
      "length: 32\n",
      "review nulls: 0.0\n",
      "number of dupes 0\n",
      "\n",
      "total: 76825\n",
      "total sum of dupes within each file: 0\n"
     ]
    }
   ],
   "source": [
    "total = 0\n",
    "dupes = 0\n",
    "col = \"Review\"\n",
    "for i in range(len(d)):\n",
    "    print(f'file # {i}')\n",
    "    print(f'file {all_files[i]}')\n",
    "    print(f'length: {len(d[i])}')\n",
    "    total += len(d[i])\n",
    "    print(f'review nulls: {d[i][col].isna().sum()/len(d[i])}')\n",
    "    cnts = d[i].groupby(['OrgPin', 'AccountID']).size().rename('cnt').reset_index()\n",
    "    mults = cnts[cnts.cnt > 1]\n",
    "    print(f'number of dupes {len(mults)}')\n",
    "    print('')\n",
    "\n",
    "    \n",
    "print(f'total: {total}')\n",
    "print(f'total sum of dupes within each file: {dupes}')"
   ]
  },
  {
   "cell_type": "code",
   "execution_count": 12,
   "id": "35fb1a1a-db01-451c-9bae-b64b96c1e33a",
   "metadata": {},
   "outputs": [],
   "source": [
    "df = pd.concat(d.values(), ignore_index = True)\n",
    "df['OrgPin'] = df['OrgPin'].astype(str)\n",
    "df.columns = [x.lower() for x in df.columns]"
   ]
  },
  {
   "cell_type": "code",
   "execution_count": 13,
   "id": "dff47a46-450a-4c29-9974-41839eff87ca",
   "metadata": {},
   "outputs": [
    {
     "data": {
      "text/html": [
       "<div>\n",
       "<style scoped>\n",
       "    .dataframe tbody tr th:only-of-type {\n",
       "        vertical-align: middle;\n",
       "    }\n",
       "\n",
       "    .dataframe tbody tr th {\n",
       "        vertical-align: top;\n",
       "    }\n",
       "\n",
       "    .dataframe thead th {\n",
       "        text-align: right;\n",
       "    }\n",
       "</style>\n",
       "<table border=\"1\" class=\"dataframe\">\n",
       "  <thead>\n",
       "    <tr style=\"text-align: right;\">\n",
       "      <th></th>\n",
       "      <th>orgpin</th>\n",
       "      <th>accountid</th>\n",
       "      <th>accountcode</th>\n",
       "      <th>description</th>\n",
       "      <th>glrollup</th>\n",
       "      <th>gldollars</th>\n",
       "      <th>lineitem</th>\n",
       "      <th>review</th>\n",
       "      <th>spaccountrollupcategory</th>\n",
       "      <th>spaccountrollupname</th>\n",
       "      <th>obdollarsfinancialreporting</th>\n",
       "      <th>dssaccountrollup1name</th>\n",
       "      <th>category</th>\n",
       "      <th>section</th>\n",
       "      <th>statement</th>\n",
       "      <th>isdollarf</th>\n",
       "      <th>isstat</th>\n",
       "      <th>file</th>\n",
       "      <th>orgaccntid</th>\n",
       "      <th>obdollarsfinancialreportingcategory</th>\n",
       "    </tr>\n",
       "  </thead>\n",
       "  <tbody>\n",
       "    <tr>\n",
       "      <th>0</th>\n",
       "      <td>1259</td>\n",
       "      <td>3965</td>\n",
       "      <td>41000-0000</td>\n",
       "      <td>ACCTS EST UNCOLL MISC -IP</td>\n",
       "      <td>HOSPITAL - IP</td>\n",
       "      <td>2.872130e+08</td>\n",
       "      <td>Revenue - Inpatient</td>\n",
       "      <td>Bad Debt</td>\n",
       "      <td>Deductions - Bad Debt</td>\n",
       "      <td>Bad Debt</td>\n",
       "      <td>IS - REVENUE DEDUCTIONS: - Bad Debt</td>\n",
       "      <td>Not Specified</td>\n",
       "      <td>Revenue - Patient - Gross</td>\n",
       "      <td>Revenue</td>\n",
       "      <td>Income Statement</td>\n",
       "      <td>1.0</td>\n",
       "      <td>0.0</td>\n",
       "      <td>C:/Users/hwallace/glaccount/results\\1259 GL Ac...</td>\n",
       "      <td>NaN</td>\n",
       "      <td>NaN</td>\n",
       "    </tr>\n",
       "    <tr>\n",
       "      <th>1</th>\n",
       "      <td>1259</td>\n",
       "      <td>5694</td>\n",
       "      <td>41005-0000</td>\n",
       "      <td>ACCTS EST UNCOLL MISC -OP</td>\n",
       "      <td>HOSPITAL - OP</td>\n",
       "      <td>1.834493e+08</td>\n",
       "      <td>Revenue - Outpatient</td>\n",
       "      <td>Bad Debt</td>\n",
       "      <td>Deductions - Bad Debt</td>\n",
       "      <td>Bad Debt</td>\n",
       "      <td>IS - REVENUE DEDUCTIONS: - Bad Debt</td>\n",
       "      <td>Not Specified</td>\n",
       "      <td>Revenue - Patient - Gross</td>\n",
       "      <td>Revenue</td>\n",
       "      <td>Income Statement</td>\n",
       "      <td>1.0</td>\n",
       "      <td>0.0</td>\n",
       "      <td>C:/Users/hwallace/glaccount/results\\1259 GL Ac...</td>\n",
       "      <td>NaN</td>\n",
       "      <td>NaN</td>\n",
       "    </tr>\n",
       "    <tr>\n",
       "      <th>2</th>\n",
       "      <td>1259</td>\n",
       "      <td>5506</td>\n",
       "      <td>41011-0000</td>\n",
       "      <td>BAD DEBT RECOVERIES AGENCY -IP</td>\n",
       "      <td>HOSPITAL - IP</td>\n",
       "      <td>-1.723962e+07</td>\n",
       "      <td>Bad Debt</td>\n",
       "      <td>NaN</td>\n",
       "      <td>Deductions - Bad Debt</td>\n",
       "      <td>Bad Debt</td>\n",
       "      <td>IS - REVENUE DEDUCTIONS: - Bad Debt</td>\n",
       "      <td>Not Specified</td>\n",
       "      <td>Revenue Deduction</td>\n",
       "      <td>Revenue</td>\n",
       "      <td>Income Statement</td>\n",
       "      <td>1.0</td>\n",
       "      <td>0.0</td>\n",
       "      <td>C:/Users/hwallace/glaccount/results\\1259 GL Ac...</td>\n",
       "      <td>NaN</td>\n",
       "      <td>NaN</td>\n",
       "    </tr>\n",
       "    <tr>\n",
       "      <th>3</th>\n",
       "      <td>1259</td>\n",
       "      <td>4284</td>\n",
       "      <td>41014-0000</td>\n",
       "      <td>BAD DEBT RECOVERIES HOSP -OP</td>\n",
       "      <td>HOSPITAL - OP</td>\n",
       "      <td>-5.429000e+01</td>\n",
       "      <td>Bad Debt</td>\n",
       "      <td>NaN</td>\n",
       "      <td>Deductions - Bad Debt</td>\n",
       "      <td>Bad Debt</td>\n",
       "      <td>IS - REVENUE DEDUCTIONS: - Bad Debt</td>\n",
       "      <td>Not Specified</td>\n",
       "      <td>Revenue Deduction</td>\n",
       "      <td>Revenue</td>\n",
       "      <td>Income Statement</td>\n",
       "      <td>1.0</td>\n",
       "      <td>0.0</td>\n",
       "      <td>C:/Users/hwallace/glaccount/results\\1259 GL Ac...</td>\n",
       "      <td>NaN</td>\n",
       "      <td>NaN</td>\n",
       "    </tr>\n",
       "    <tr>\n",
       "      <th>4</th>\n",
       "      <td>1259</td>\n",
       "      <td>5172</td>\n",
       "      <td>41012-0000</td>\n",
       "      <td>BAD DEBT RECOVERIES HOSP -IP</td>\n",
       "      <td>HOSPITAL - IP</td>\n",
       "      <td>-8.152721e+06</td>\n",
       "      <td>Bad Debt</td>\n",
       "      <td>NaN</td>\n",
       "      <td>Deductions - Bad Debt</td>\n",
       "      <td>Bad Debt</td>\n",
       "      <td>IS - REVENUE DEDUCTIONS: - Bad Debt</td>\n",
       "      <td>Not Specified</td>\n",
       "      <td>Revenue Deduction</td>\n",
       "      <td>Revenue</td>\n",
       "      <td>Income Statement</td>\n",
       "      <td>1.0</td>\n",
       "      <td>0.0</td>\n",
       "      <td>C:/Users/hwallace/glaccount/results\\1259 GL Ac...</td>\n",
       "      <td>NaN</td>\n",
       "      <td>NaN</td>\n",
       "    </tr>\n",
       "  </tbody>\n",
       "</table>\n",
       "</div>"
      ],
      "text/plain": [
       "  orgpin  accountid accountcode                     description  \\\n",
       "0   1259       3965  41000-0000       ACCTS EST UNCOLL MISC -IP   \n",
       "1   1259       5694  41005-0000       ACCTS EST UNCOLL MISC -OP   \n",
       "2   1259       5506  41011-0000  BAD DEBT RECOVERIES AGENCY -IP   \n",
       "3   1259       4284  41014-0000    BAD DEBT RECOVERIES HOSP -OP   \n",
       "4   1259       5172  41012-0000    BAD DEBT RECOVERIES HOSP -IP   \n",
       "\n",
       "        glrollup     gldollars              lineitem    review  \\\n",
       "0  HOSPITAL - IP  2.872130e+08   Revenue - Inpatient  Bad Debt   \n",
       "1  HOSPITAL - OP  1.834493e+08  Revenue - Outpatient  Bad Debt   \n",
       "2  HOSPITAL - IP -1.723962e+07              Bad Debt       NaN   \n",
       "3  HOSPITAL - OP -5.429000e+01              Bad Debt       NaN   \n",
       "4  HOSPITAL - IP -8.152721e+06              Bad Debt       NaN   \n",
       "\n",
       "  spaccountrollupcategory spaccountrollupname  \\\n",
       "0   Deductions - Bad Debt            Bad Debt   \n",
       "1   Deductions - Bad Debt            Bad Debt   \n",
       "2   Deductions - Bad Debt            Bad Debt   \n",
       "3   Deductions - Bad Debt            Bad Debt   \n",
       "4   Deductions - Bad Debt            Bad Debt   \n",
       "\n",
       "           obdollarsfinancialreporting dssaccountrollup1name  \\\n",
       "0  IS - REVENUE DEDUCTIONS: - Bad Debt         Not Specified   \n",
       "1  IS - REVENUE DEDUCTIONS: - Bad Debt         Not Specified   \n",
       "2  IS - REVENUE DEDUCTIONS: - Bad Debt         Not Specified   \n",
       "3  IS - REVENUE DEDUCTIONS: - Bad Debt         Not Specified   \n",
       "4  IS - REVENUE DEDUCTIONS: - Bad Debt         Not Specified   \n",
       "\n",
       "                    category  section         statement  isdollarf  isstat  \\\n",
       "0  Revenue - Patient - Gross  Revenue  Income Statement        1.0     0.0   \n",
       "1  Revenue - Patient - Gross  Revenue  Income Statement        1.0     0.0   \n",
       "2          Revenue Deduction  Revenue  Income Statement        1.0     0.0   \n",
       "3          Revenue Deduction  Revenue  Income Statement        1.0     0.0   \n",
       "4          Revenue Deduction  Revenue  Income Statement        1.0     0.0   \n",
       "\n",
       "                                                file  orgaccntid  \\\n",
       "0  C:/Users/hwallace/glaccount/results\\1259 GL Ac...         NaN   \n",
       "1  C:/Users/hwallace/glaccount/results\\1259 GL Ac...         NaN   \n",
       "2  C:/Users/hwallace/glaccount/results\\1259 GL Ac...         NaN   \n",
       "3  C:/Users/hwallace/glaccount/results\\1259 GL Ac...         NaN   \n",
       "4  C:/Users/hwallace/glaccount/results\\1259 GL Ac...         NaN   \n",
       "\n",
       "  obdollarsfinancialreportingcategory  \n",
       "0                                 NaN  \n",
       "1                                 NaN  \n",
       "2                                 NaN  \n",
       "3                                 NaN  \n",
       "4                                 NaN  "
      ]
     },
     "execution_count": 13,
     "metadata": {},
     "output_type": "execute_result"
    }
   ],
   "source": [
    "df.head()"
   ]
  },
  {
   "cell_type": "markdown",
   "id": "4a810822-8369-4ab3-b12e-6d8e55af10f5",
   "metadata": {},
   "source": [
    "### SEND TO SNOWFLAKE TO ANALYSE REPEATS"
   ]
  },
  {
   "cell_type": "raw",
   "id": "62d87de9-5473-4a1e-a9c5-b1ca3c87ab6f",
   "metadata": {},
   "source": [
    "# dconfig = AnalysisConfig(environment='snowflake_sandbox')\n",
    "# # dconfig.db_schema = 'tmp'\n",
    "# con = get_database_connection(dconfig)\n",
    "con = get_snowflake_database_connection()"
   ]
  },
  {
   "cell_type": "raw",
   "id": "0193d6b2-74c1-4d5c-9eec-1916fbb4d827",
   "metadata": {},
   "source": [
    "df.to_sql('hw_glacct1', con=con, schema='tmp', index=False)"
   ]
  },
  {
   "cell_type": "raw",
   "id": "2199be2c-1619-409a-8b9f-5bb623735873",
   "metadata": {},
   "source": [
    "df.dtypes"
   ]
  },
  {
   "cell_type": "raw",
   "id": "94ca4b49-d34d-4039-8d37-e8554e5dbc1c",
   "metadata": {},
   "source": [
    "dfs = pd.read_sql(\"select * from datalake_sandbox.tmp.hw_glacct_joined\", con=get_snowflake_database_connection())"
   ]
  },
  {
   "cell_type": "raw",
   "id": "83507683-c3c4-416f-b74d-d64221c93abd",
   "metadata": {},
   "source": [
    "dfs.shape"
   ]
  },
  {
   "cell_type": "raw",
   "id": "7a10b803-c89c-4123-804b-55ddbbd87a6d",
   "metadata": {},
   "source": [
    "dfs"
   ]
  },
  {
   "cell_type": "raw",
   "id": "6555727a-67f0-487f-af77-df87ba5ad647",
   "metadata": {},
   "source": []
  },
  {
   "cell_type": "raw",
   "id": "240e1a2b-f544-47c6-accc-95685709d073",
   "metadata": {},
   "source": [
    "cnts = dfs.groupby(['orgpin', 'accountid']).size().rename('cnt').reset_index()\n",
    "mults = cnts[cnts.cnt > 1]\n",
    "len(mults)"
   ]
  },
  {
   "cell_type": "raw",
   "id": "0812aa7b-0a73-4aaa-8585-48c39f2b69df",
   "metadata": {},
   "source": [
    "df_m = dfs.merge(mults, on=['orgpin', 'accountid'])"
   ]
  },
  {
   "cell_type": "raw",
   "id": "e7688d5b-ccd6-4523-82e0-b5438e5e2469",
   "metadata": {},
   "source": [
    "df_m.shape"
   ]
  },
  {
   "cell_type": "raw",
   "id": "687f528b-8c91-48ee-a46d-25c5aefcb171",
   "metadata": {},
   "source": [
    "df_m.groupby(['file', 'review_match_ornull']).size()"
   ]
  },
  {
   "cell_type": "raw",
   "id": "335abf7d-b782-42d2-bb1f-9417b09c4166",
   "metadata": {},
   "source": [
    "df_mj = df_m.merge(df_m, on=['orgpin', 'accountid'])"
   ]
  },
  {
   "cell_type": "raw",
   "id": "c381dcdb-d367-4972-99de-1454abeffea2",
   "metadata": {},
   "source": [
    "df_mj.shape"
   ]
  },
  {
   "cell_type": "raw",
   "id": "caf5197c-4d62-4d68-ab52-38b80b9b716c",
   "metadata": {},
   "source": [
    "df_mj = df_mj.loc[df_mj.file_x != df_mj.file_y]"
   ]
  },
  {
   "cell_type": "raw",
   "id": "62f1d692-3fd8-47b7-b92f-df5ec9c2f50b",
   "metadata": {},
   "source": [
    "df_mj.shape"
   ]
  },
  {
   "cell_type": "raw",
   "id": "126a425a-fc56-4dde-9263-6f193de9ca04",
   "metadata": {},
   "source": [
    "df_mj"
   ]
  },
  {
   "cell_type": "raw",
   "id": "4341a93b-8df1-4ee2-af98-320e4181b6f1",
   "metadata": {},
   "source": [
    "df_mj.groupby(['file_x','file_y', 'review_match_ornull_x', 'review_match_ornull_y']).size().to_csv('C:/Users/hwallace/glaccount/match.csv')"
   ]
  },
  {
   "cell_type": "raw",
   "id": "1fe488f7-7dcc-4555-a727-f80f1bc260db",
   "metadata": {},
   "source": [
    "df_mj.groupby(['review_match_ornull_x', 'review_match_ornull_y']).size()"
   ]
  },
  {
   "cell_type": "raw",
   "id": "489ee8fd-7913-4fde-9b22-9a0e97bf3695",
   "metadata": {},
   "source": [
    "df_mj.groupby(['review_match_ornull_x', 'review_match_ornull_y', 'lineitem_match_y']).size()"
   ]
  },
  {
   "cell_type": "raw",
   "id": "80c15ac0-4c2b-4542-9616-450bffd78e25",
   "metadata": {},
   "source": [
    "df_mj.loc[(df_mj.review_match_ornull_x == 0) & (df_mj.review_match_ornull_y == 0), ['lineitem_x', 'review_x', 'review_y', 'db_lineitem_x', 'cnt_x']].groupby('cnt_x').size()"
   ]
  },
  {
   "cell_type": "raw",
   "id": "77d04daa-e332-4bba-b192-311e5a5c7431",
   "metadata": {},
   "source": [
    "df_mj.loc[(df_mj.review_match_ornull_x == 1) & (df_mj.review_match_ornull_y == 0), ['lineitem_x', 'review_x', 'review_y', 'db_lineitem_x', 'cnt_x']]"
   ]
  },
  {
   "cell_type": "markdown",
   "id": "b33f0b26-7ea4-4bf6-b39a-10a0cebe33c3",
   "metadata": {},
   "source": [
    "### END ANALYSIS OF REPEATS\n",
    "\n",
    "#### After checking for duplicates, the conclusion was that workbooks 7.7.22 and 7.8.22 are both duplicates of other sheets and are outdated. Additionally, 5.05.22 and 1259 GL Review have no corrections in them and its row corrections are found in other sheets."
   ]
  },
  {
   "cell_type": "markdown",
   "id": "1676d4f6-9382-448a-98cc-3449288e9961",
   "metadata": {},
   "source": [
    "### Workbook 5.2.22 has duplicates that are also in 5.11.22, and the 5.2.22 rows should be deleted, that happens below"
   ]
  },
  {
   "cell_type": "code",
   "execution_count": 14,
   "id": "c201b2e0-47d1-4bf8-b71a-29a2c011ed27",
   "metadata": {},
   "outputs": [
    {
     "data": {
      "text/plain": [
       "2136"
      ]
     },
     "execution_count": 14,
     "metadata": {},
     "output_type": "execute_result"
    }
   ],
   "source": [
    "cnts = df.groupby(['orgpin', 'accountid']).size().rename('cnt').reset_index()\n",
    "mults = cnts[cnts.cnt > 1]\n",
    "len(mults)"
   ]
  },
  {
   "cell_type": "code",
   "execution_count": 15,
   "id": "331f876c-1ede-468f-97f1-0d1790f0678e",
   "metadata": {},
   "outputs": [],
   "source": [
    "df_m = df.merge(mults, on=['orgpin', 'accountid'])"
   ]
  },
  {
   "cell_type": "code",
   "execution_count": 16,
   "id": "5b8818ce-d1a4-443d-8fa1-97298aab5e77",
   "metadata": {},
   "outputs": [
    {
     "data": {
      "text/plain": [
       "file\n",
       "C:/Users/hwallace/glaccount/results\\2022.06.14 gl_accounts existing clients.xlsx      51\n",
       "C:/Users/hwallace/glaccount/results\\GL New Accounts 10.13.22.xlsx                      1\n",
       "C:/Users/hwallace/glaccount/results\\GL New Accounts 11.4.22.xlsx                       1\n",
       "C:/Users/hwallace/glaccount/results\\GL New Accounts 8.11.22.xlsx                       6\n",
       "C:/Users/hwallace/glaccount/results\\GL New Accounts 9.14.22.xlsx                       9\n",
       "C:/Users/hwallace/glaccount/results\\GL New Clients 10.4.22.xlsx                        1\n",
       "C:/Users/hwallace/glaccount/results\\GL New Clients 6.1.22.xlsx                         1\n",
       "C:/Users/hwallace/glaccount/results\\St Francis post conversion GL 9.8.22.xlsx         14\n",
       "C:/Users/hwallace/glaccount/results\\VCU GL 7.28.22.xlsx                               56\n",
       "C:/Users/hwallace/glaccount/results\\gl_accounts_202206 ji edits.xlsx                  22\n",
       "C:/Users/hwallace/glaccount/results\\gl_accounts_existing 5.11.22.xlsx               2078\n",
       "C:/Users/hwallace/glaccount/results\\gl_accounts_new clients 5.2.22.xlsx             2044\n",
       "dtype: int64"
      ]
     },
     "execution_count": 16,
     "metadata": {},
     "output_type": "execute_result"
    }
   ],
   "source": [
    "df_m.groupby('file').size()"
   ]
  },
  {
   "cell_type": "code",
   "execution_count": 17,
   "id": "e238d505-bf8b-4cbf-8cbe-9ea06a787bbc",
   "metadata": {},
   "outputs": [],
   "source": [
    "df_mj = df_m.merge(df_m, on=['orgpin', 'accountid'])"
   ]
  },
  {
   "cell_type": "code",
   "execution_count": 18,
   "id": "4700a4c6-a3b9-4bdb-a3cd-cdb4bdca45d0",
   "metadata": {},
   "outputs": [],
   "source": [
    "df_mj = df_mj.loc[df_mj.file_x != df_mj.file_y]"
   ]
  },
  {
   "cell_type": "code",
   "execution_count": 19,
   "id": "303f2f4a-38ec-4160-907e-03f8cb4b5265",
   "metadata": {
    "tags": []
   },
   "outputs": [
    {
     "data": {
      "text/plain": [
       "file_x                                                                            file_y                                                                          \n",
       "C:/Users/hwallace/glaccount/results\\2022.06.14 gl_accounts existing clients.xlsx  C:/Users/hwallace/glaccount/results\\St Francis post conversion GL 9.8.22.xlsx         12\n",
       "                                                                                  C:/Users/hwallace/glaccount/results\\VCU GL 7.28.22.xlsx                               23\n",
       "                                                                                  C:/Users/hwallace/glaccount/results\\gl_accounts_202206 ji edits.xlsx                  15\n",
       "                                                                                  C:/Users/hwallace/glaccount/results\\gl_accounts_existing 5.11.22.xlsx                 12\n",
       "C:/Users/hwallace/glaccount/results\\GL New Accounts 10.13.22.xlsx                 C:/Users/hwallace/glaccount/results\\GL New Accounts 11.4.22.xlsx                       1\n",
       "                                                                                  C:/Users/hwallace/glaccount/results\\GL New Clients 10.4.22.xlsx                        1\n",
       "C:/Users/hwallace/glaccount/results\\GL New Accounts 11.4.22.xlsx                  C:/Users/hwallace/glaccount/results\\GL New Accounts 10.13.22.xlsx                      1\n",
       "                                                                                  C:/Users/hwallace/glaccount/results\\GL New Clients 10.4.22.xlsx                        1\n",
       "C:/Users/hwallace/glaccount/results\\GL New Accounts 8.11.22.xlsx                  C:/Users/hwallace/glaccount/results\\GL New Accounts 9.14.22.xlsx                       4\n",
       "                                                                                  C:/Users/hwallace/glaccount/results\\GL New Clients 6.1.22.xlsx                         1\n",
       "                                                                                  C:/Users/hwallace/glaccount/results\\St Francis post conversion GL 9.8.22.xlsx          1\n",
       "C:/Users/hwallace/glaccount/results\\GL New Accounts 9.14.22.xlsx                  C:/Users/hwallace/glaccount/results\\GL New Accounts 8.11.22.xlsx                       4\n",
       "                                                                                  C:/Users/hwallace/glaccount/results\\VCU GL 7.28.22.xlsx                                5\n",
       "C:/Users/hwallace/glaccount/results\\GL New Clients 10.4.22.xlsx                   C:/Users/hwallace/glaccount/results\\GL New Accounts 10.13.22.xlsx                      1\n",
       "                                                                                  C:/Users/hwallace/glaccount/results\\GL New Accounts 11.4.22.xlsx                       1\n",
       "C:/Users/hwallace/glaccount/results\\GL New Clients 6.1.22.xlsx                    C:/Users/hwallace/glaccount/results\\GL New Accounts 8.11.22.xlsx                       1\n",
       "C:/Users/hwallace/glaccount/results\\St Francis post conversion GL 9.8.22.xlsx     C:/Users/hwallace/glaccount/results\\2022.06.14 gl_accounts existing clients.xlsx      12\n",
       "                                                                                  C:/Users/hwallace/glaccount/results\\GL New Accounts 8.11.22.xlsx                       1\n",
       "                                                                                  C:/Users/hwallace/glaccount/results\\gl_accounts_202206 ji edits.xlsx                   1\n",
       "C:/Users/hwallace/glaccount/results\\VCU GL 7.28.22.xlsx                           C:/Users/hwallace/glaccount/results\\2022.06.14 gl_accounts existing clients.xlsx      23\n",
       "                                                                                  C:/Users/hwallace/glaccount/results\\GL New Accounts 9.14.22.xlsx                       5\n",
       "                                                                                  C:/Users/hwallace/glaccount/results\\gl_accounts_202206 ji edits.xlsx                   6\n",
       "                                                                                  C:/Users/hwallace/glaccount/results\\gl_accounts_existing 5.11.22.xlsx                 22\n",
       "C:/Users/hwallace/glaccount/results\\gl_accounts_202206 ji edits.xlsx              C:/Users/hwallace/glaccount/results\\2022.06.14 gl_accounts existing clients.xlsx      15\n",
       "                                                                                  C:/Users/hwallace/glaccount/results\\St Francis post conversion GL 9.8.22.xlsx          1\n",
       "                                                                                  C:/Users/hwallace/glaccount/results\\VCU GL 7.28.22.xlsx                                6\n",
       "                                                                                  C:/Users/hwallace/glaccount/results\\gl_accounts_existing 5.11.22.xlsx                 11\n",
       "C:/Users/hwallace/glaccount/results\\gl_accounts_existing 5.11.22.xlsx             C:/Users/hwallace/glaccount/results\\2022.06.14 gl_accounts existing clients.xlsx      12\n",
       "                                                                                  C:/Users/hwallace/glaccount/results\\VCU GL 7.28.22.xlsx                               22\n",
       "                                                                                  C:/Users/hwallace/glaccount/results\\gl_accounts_202206 ji edits.xlsx                  11\n",
       "                                                                                  C:/Users/hwallace/glaccount/results\\gl_accounts_new clients 5.2.22.xlsx             2044\n",
       "C:/Users/hwallace/glaccount/results\\gl_accounts_new clients 5.2.22.xlsx           C:/Users/hwallace/glaccount/results\\gl_accounts_existing 5.11.22.xlsx               2044\n",
       "dtype: int64"
      ]
     },
     "execution_count": 19,
     "metadata": {},
     "output_type": "execute_result"
    }
   ],
   "source": [
    "df_mj.groupby(['file_x','file_y']).size()"
   ]
  },
  {
   "cell_type": "code",
   "execution_count": 20,
   "id": "16374d18-6e21-4d63-8ee9-bccf54179f80",
   "metadata": {},
   "outputs": [],
   "source": [
    "# df_mj = df_mj.fillna('none')\n",
    "# df_mj.loc[df_mj.review_x != df_mj.review_y, ['orgpin', 'accountid', 'lineitem_x', 'lineitem_y', 'review_x', 'review_y']]"
   ]
  },
  {
   "cell_type": "code",
   "execution_count": 21,
   "id": "c825323a-d342-43d3-8944-5b920ede3e92",
   "metadata": {
    "tags": []
   },
   "outputs": [],
   "source": [
    "df_m52 = df_m.loc[df_m.file.str.contains('5.2.22'), ['orgpin','accountid','file','cnt']]"
   ]
  },
  {
   "cell_type": "code",
   "execution_count": 22,
   "id": "af22c21d-4cb7-4b28-8152-d15de3814d3c",
   "metadata": {},
   "outputs": [],
   "source": [
    "df = df.merge(df_m52, how='left')"
   ]
  },
  {
   "cell_type": "code",
   "execution_count": 23,
   "id": "488dd0c0-fd65-4266-9e66-61d3361a3a8c",
   "metadata": {},
   "outputs": [
    {
     "data": {
      "text/plain": [
       "(76825, 21)"
      ]
     },
     "execution_count": 23,
     "metadata": {},
     "output_type": "execute_result"
    }
   ],
   "source": [
    "df.shape"
   ]
  },
  {
   "cell_type": "code",
   "execution_count": 24,
   "id": "8c40f0ee-7407-4265-951d-8fa202b70642",
   "metadata": {},
   "outputs": [],
   "source": [
    "df['cnt'] = df['cnt'].fillna(1.0)"
   ]
  },
  {
   "cell_type": "code",
   "execution_count": 25,
   "id": "cfec4b68-e7bd-4f0e-b211-d87f85d913e7",
   "metadata": {},
   "outputs": [
    {
     "data": {
      "text/plain": [
       "file                                                                              cnt\n",
       "C:/Users/hwallace/glaccount/results\\1259 GL Account Final.xlsx                    1.0     2278\n",
       "C:/Users/hwallace/glaccount/results\\2022.06.14 gl_accounts existing clients.xlsx  1.0      955\n",
       "C:/Users/hwallace/glaccount/results\\GL New Accounts 10.13.22.xlsx                 1.0      688\n",
       "C:/Users/hwallace/glaccount/results\\GL New Accounts 11.4.22.xlsx                  1.0      394\n",
       "C:/Users/hwallace/glaccount/results\\GL New Accounts 8.11.22.xlsx                  1.0     1711\n",
       "C:/Users/hwallace/glaccount/results\\GL New Accounts 9.14.22.xlsx                  1.0     1517\n",
       "C:/Users/hwallace/glaccount/results\\GL New Clients 10.24.22.xlsx                  1.0      292\n",
       "C:/Users/hwallace/glaccount/results\\GL New Clients 10.4.22.xlsx                   1.0     2816\n",
       "C:/Users/hwallace/glaccount/results\\GL New Clients 5.12.22.xlsx                   1.0     2947\n",
       "C:/Users/hwallace/glaccount/results\\GL New Clients 6.1.22.xlsx                    1.0     5173\n",
       "C:/Users/hwallace/glaccount/results\\St Francis post conversion GL 9.8.22.xlsx     1.0      479\n",
       "C:/Users/hwallace/glaccount/results\\UHHS GL Accounts 5.27.22.xlsx                 1.0    36924\n",
       "C:/Users/hwallace/glaccount/results\\VCU GL 7.28.22.xlsx                           1.0     1378\n",
       "C:/Users/hwallace/glaccount/results\\Wellstar_gl_accounts.xlsx                     1.0       32\n",
       "C:/Users/hwallace/glaccount/results\\gl_accounts_202206 ji edits.xlsx              1.0     6735\n",
       "C:/Users/hwallace/glaccount/results\\gl_accounts_2734_2957 _8.1.22.xlsx            1.0     5449\n",
       "C:/Users/hwallace/glaccount/results\\gl_accounts_3175_8.1.22.xlsx                  1.0      255\n",
       "C:/Users/hwallace/glaccount/results\\gl_accounts_7.29.22.xlsx                      1.0      805\n",
       "C:/Users/hwallace/glaccount/results\\gl_accounts_SkyLakes3177 8.8.22.xlsx          1.0       31\n",
       "C:/Users/hwallace/glaccount/results\\gl_accounts_existing 5.11.22.xlsx             1.0     2605\n",
       "C:/Users/hwallace/glaccount/results\\gl_accounts_new clients 5.2.22.xlsx           1.0     1317\n",
       "                                                                                  2.0     2044\n",
       "dtype: int64"
      ]
     },
     "execution_count": 25,
     "metadata": {},
     "output_type": "execute_result"
    }
   ],
   "source": [
    "df.groupby(['file', 'cnt']).size()"
   ]
  },
  {
   "cell_type": "code",
   "execution_count": 26,
   "id": "e3fd2518-8461-4ebc-b850-fd2e844090ff",
   "metadata": {},
   "outputs": [],
   "source": [
    "df = df.loc[df.cnt == 1]"
   ]
  },
  {
   "cell_type": "code",
   "execution_count": 27,
   "id": "03a7ad86-da4e-446b-9dab-4ad818bf63dc",
   "metadata": {},
   "outputs": [
    {
     "data": {
      "text/plain": [
       "(74781, 21)"
      ]
     },
     "execution_count": 27,
     "metadata": {},
     "output_type": "execute_result"
    }
   ],
   "source": [
    "df.shape"
   ]
  },
  {
   "cell_type": "markdown",
   "id": "9538c20f-668f-4935-b8f3-52a50f65358b",
   "metadata": {},
   "source": [
    "### Example from Kendall of sending observations to be scored by sagemaker"
   ]
  },
  {
   "cell_type": "code",
   "execution_count": 200,
   "id": "49653758-53f6-4e3b-ab1c-c4d44bb00ba0",
   "metadata": {},
   "outputs": [],
   "source": [
    "# t=TGLACCOUNTNORMALIZATIONTRAINER\n",
    "# print(t.__table__.name)\n",
    "# dtreq=pd.read_sql(t.__table__.select().limit(10000), con=get_snowflake_database_connection())\n",
    "# print(dtreq.shape)\n",
    "# print(dtreq.columns)\n",
    "# cols=['orgpin', 'accountid', 'gldescription', 'glrollup']\n",
    "# s1=dtreq[cols][5000:5003].copy()"
   ]
  },
  {
   "cell_type": "code",
   "execution_count": 96,
   "id": "a2034102-5639-4d2d-8191-53c8c9d068be",
   "metadata": {},
   "outputs": [],
   "source": [
    "# # FOR LOCAL\n",
    "# # url1='http://localhost:5000/glaccount'\n",
    "# # FOR SDSUTILS\n",
    "# # url1='https://sdsutils.prod.stratanetwork.net/glaccount'\n",
    "# # FOR AWS\n",
    "# url1='https://czhu46jwq8.execute-api.us-east-1.amazonaws.com/test/sdt-sds-glnormalization'\n",
    "# s1['accountid']=s1['accountid'].astype(int)\n",
    "# awscols=['OrgPin', 'AccountID', 'Description', 'GLRollup']\n",
    "# s1.columns=awscols\n",
    "# obj1=s1.to_json(orient='records')"
   ]
  },
  {
   "cell_type": "code",
   "execution_count": null,
   "id": "98abc307-8b69-4823-9fe2-5eb4258e6215",
   "metadata": {},
   "outputs": [],
   "source": [
    "# x1=requests.post(url1, data=obj1)\n",
    "# x1=json.loads(x1.text)['body']['result']"
   ]
  },
  {
   "cell_type": "markdown",
   "id": "98b78950-afeb-4ea9-9132-f459e69d7484",
   "metadata": {},
   "source": [
    "### Setting up to send our spreadsheet observations through sagemaker to get confidence scores"
   ]
  },
  {
   "cell_type": "code",
   "execution_count": 28,
   "id": "5ec70261-3eae-4106-bb20-13121ebc9af2",
   "metadata": {},
   "outputs": [],
   "source": [
    "def gl_req(data, url1='https://czhu46jwq8.execute-api.us-east-1.amazonaws.com/test/sdt-sds-glnormalization'):\n",
    "    df_json = data.to_json(orient='records')\n",
    "    result = requests.post(url1, data=df_json)\n",
    "    result = json.loads(result.text)['body']['result']\n",
    "    resultdf = pd.DataFrame.from_records(result)\n",
    "    return resultdf"
   ]
  },
  {
   "cell_type": "code",
   "execution_count": 39,
   "id": "4675214d-f444-41ff-a1c5-4b66a533172e",
   "metadata": {},
   "outputs": [],
   "source": [
    "df_test = df[['orgpin', 'accountid', 'description', 'glrollup']].copy()\n",
    "awscols=['OrgPin', 'AccountID', 'Description', 'GLRollup']\n",
    "df_test.columns = awscols\n",
    "df_test = df_test.fillna('')"
   ]
  },
  {
   "cell_type": "code",
   "execution_count": 40,
   "id": "39f4197c-6823-470d-9f25-a82ba5e8c431",
   "metadata": {},
   "outputs": [],
   "source": [
    "df_test['OrgPin'] = df_test['OrgPin'].astype(str)\n",
    "df_test['AccountID'] = df_test['AccountID'].astype(int)\n",
    "df_test['Description'] = df_test['Description'].astype(str)\n",
    "df_test['GLRollup'] = df_test['GLRollup'].astype(str)\n",
    "df_test = df_test.drop_duplicates()"
   ]
  },
  {
   "cell_type": "code",
   "execution_count": 41,
   "id": "387f96a9-3107-4ac4-bce0-ab9545d90d55",
   "metadata": {},
   "outputs": [
    {
     "data": {
      "text/plain": [
       "OrgPin         object\n",
       "AccountID       int32\n",
       "Description    object\n",
       "GLRollup       object\n",
       "dtype: object"
      ]
     },
     "execution_count": 41,
     "metadata": {},
     "output_type": "execute_result"
    }
   ],
   "source": [
    "df_test.dtypes"
   ]
  },
  {
   "cell_type": "code",
   "execution_count": 42,
   "id": "749c8411-9d19-4c14-a23a-03f8057d5cb2",
   "metadata": {},
   "outputs": [
    {
     "data": {
      "text/plain": [
       "OrgPin         0\n",
       "AccountID      0\n",
       "Description    0\n",
       "GLRollup       0\n",
       "dtype: int64"
      ]
     },
     "execution_count": 42,
     "metadata": {},
     "output_type": "execute_result"
    }
   ],
   "source": [
    "df_test.isna().sum()"
   ]
  },
  {
   "cell_type": "code",
   "execution_count": 43,
   "id": "c4c529db-6fe2-4a4e-ab5d-87309c794cee",
   "metadata": {},
   "outputs": [
    {
     "data": {
      "text/plain": [
       "(74685, 4)"
      ]
     },
     "execution_count": 43,
     "metadata": {},
     "output_type": "execute_result"
    }
   ],
   "source": [
    "df_test.shape"
   ]
  },
  {
   "cell_type": "markdown",
   "id": "e2799346-cade-4f65-bc00-a8bee54dbc5a",
   "metadata": {},
   "source": [
    "### Some observations don't get a response from the model, not sure why, but in the end it's under 1% of observations, which feels ok to me"
   ]
  },
  {
   "cell_type": "code",
   "execution_count": 45,
   "id": "4a1701af-1d80-4165-8963-614bdba3333d",
   "metadata": {},
   "outputs": [],
   "source": [
    "df_res = gl_req(df_test[11:12])"
   ]
  },
  {
   "cell_type": "code",
   "execution_count": 46,
   "id": "89271461-78cd-4a94-ae16-967e70c6acbb",
   "metadata": {
    "tags": []
   },
   "outputs": [
    {
     "data": {
      "text/html": [
       "<div>\n",
       "<style scoped>\n",
       "    .dataframe tbody tr th:only-of-type {\n",
       "        vertical-align: middle;\n",
       "    }\n",
       "\n",
       "    .dataframe tbody tr th {\n",
       "        vertical-align: top;\n",
       "    }\n",
       "\n",
       "    .dataframe thead th {\n",
       "        text-align: right;\n",
       "    }\n",
       "</style>\n",
       "<table border=\"1\" class=\"dataframe\">\n",
       "  <thead>\n",
       "    <tr style=\"text-align: right;\">\n",
       "      <th></th>\n",
       "    </tr>\n",
       "  </thead>\n",
       "  <tbody>\n",
       "  </tbody>\n",
       "</table>\n",
       "</div>"
      ],
      "text/plain": [
       "Empty DataFrame\n",
       "Columns: []\n",
       "Index: []"
      ]
     },
     "execution_count": 46,
     "metadata": {},
     "output_type": "execute_result"
    }
   ],
   "source": [
    "df_res"
   ]
  },
  {
   "cell_type": "code",
   "execution_count": 47,
   "id": "60a8e231-ea20-4999-af05-bbdecca48db9",
   "metadata": {
    "tags": []
   },
   "outputs": [
    {
     "data": {
      "text/html": [
       "<div>\n",
       "<style scoped>\n",
       "    .dataframe tbody tr th:only-of-type {\n",
       "        vertical-align: middle;\n",
       "    }\n",
       "\n",
       "    .dataframe tbody tr th {\n",
       "        vertical-align: top;\n",
       "    }\n",
       "\n",
       "    .dataframe thead th {\n",
       "        text-align: right;\n",
       "    }\n",
       "</style>\n",
       "<table border=\"1\" class=\"dataframe\">\n",
       "  <thead>\n",
       "    <tr style=\"text-align: right;\">\n",
       "      <th></th>\n",
       "      <th>OrgPin</th>\n",
       "      <th>AccountID</th>\n",
       "      <th>Description</th>\n",
       "      <th>GLRollup</th>\n",
       "    </tr>\n",
       "  </thead>\n",
       "  <tbody>\n",
       "    <tr>\n",
       "      <th>11</th>\n",
       "      <td>1259</td>\n",
       "      <td>5074</td>\n",
       "      <td>ACCTS EST UNCOLL HOSPITLIST-IP</td>\n",
       "      <td>HOSPITAL - IP</td>\n",
       "    </tr>\n",
       "  </tbody>\n",
       "</table>\n",
       "</div>"
      ],
      "text/plain": [
       "   OrgPin  AccountID                     Description       GLRollup\n",
       "11   1259       5074  ACCTS EST UNCOLL HOSPITLIST-IP  HOSPITAL - IP"
      ]
     },
     "execution_count": 47,
     "metadata": {},
     "output_type": "execute_result"
    }
   ],
   "source": [
    "df_test[11:12]"
   ]
  },
  {
   "cell_type": "code",
   "execution_count": 44,
   "id": "3cb6092a-d04a-4604-8608-0a9fecb55c91",
   "metadata": {},
   "outputs": [
    {
     "data": {
      "text/plain": [
       "cnt\n",
       "1    74685\n",
       "dtype: int64"
      ]
     },
     "execution_count": 44,
     "metadata": {},
     "output_type": "execute_result"
    }
   ],
   "source": [
    "df_test.groupby(['OrgPin', 'AccountID','GLRollup','Description']).size().rename('cnt').reset_index().groupby('cnt').size()"
   ]
  },
  {
   "cell_type": "markdown",
   "id": "3b73ffe5-39a5-4317-9d82-d495fbfbfa22",
   "metadata": {},
   "source": [
    "## Send the observations to sagemaker and collect them in df_res, QA them"
   ]
  },
  {
   "cell_type": "code",
   "execution_count": 48,
   "id": "3fbc003a-ed01-4396-9a94-568179d86b8b",
   "metadata": {
    "collapsed": true,
    "jupyter": {
     "outputs_hidden": true
    },
    "tags": []
   },
   "outputs": [
    {
     "name": "stdout",
     "output_type": "stream",
     "text": [
      "500\n",
      "1000\n",
      "1500\n",
      "2000\n",
      "2500\n",
      "3000\n",
      "3500\n",
      "4000\n",
      "4500\n",
      "5000\n",
      "5500\n",
      "6000\n",
      "6500\n",
      "7000\n",
      "7500\n",
      "8000\n",
      "8500\n",
      "9000\n",
      "9500\n",
      "10000\n",
      "10500\n",
      "11000\n",
      "11500\n",
      "12000\n",
      "12500\n",
      "13000\n",
      "13500\n",
      "14000\n",
      "14500\n",
      "15000\n",
      "15500\n",
      "16000\n",
      "16500\n",
      "17000\n",
      "17500\n",
      "18000\n",
      "18500\n",
      "19000\n",
      "19500\n",
      "20000\n",
      "20500\n",
      "21000\n",
      "21500\n",
      "22000\n",
      "22500\n",
      "23000\n",
      "23500\n",
      "24000\n",
      "24500\n",
      "25000\n",
      "25500\n",
      "26000\n",
      "26500\n",
      "27000\n",
      "27500\n",
      "28000\n",
      "28500\n",
      "29000\n",
      "29500\n",
      "30000\n",
      "30500\n",
      "31000\n",
      "31500\n",
      "32000\n",
      "32500\n",
      "33000\n",
      "33500\n",
      "34000\n",
      "34500\n",
      "35000\n",
      "35500\n",
      "36000\n",
      "36500\n",
      "37000\n",
      "37500\n",
      "38000\n",
      "38500\n",
      "39000\n",
      "39500\n",
      "40000\n",
      "40500\n",
      "41000\n",
      "41500\n",
      "42000\n",
      "42500\n",
      "43000\n",
      "43500\n",
      "44000\n",
      "44500\n",
      "45000\n",
      "45500\n",
      "46000\n",
      "46500\n",
      "47000\n",
      "47500\n",
      "48000\n",
      "48500\n",
      "49000\n",
      "49500\n",
      "50000\n",
      "50500\n",
      "51000\n",
      "51500\n",
      "52000\n",
      "52500\n",
      "53000\n",
      "53500\n",
      "54000\n",
      "54500\n",
      "55000\n",
      "55500\n",
      "56000\n",
      "56500\n",
      "57000\n",
      "57500\n",
      "58000\n",
      "58500\n",
      "59000\n",
      "59500\n",
      "60000\n",
      "60500\n",
      "61000\n",
      "61500\n",
      "62000\n",
      "62500\n",
      "63000\n",
      "63500\n",
      "64000\n",
      "64500\n",
      "65000\n",
      "65500\n",
      "66000\n",
      "66500\n",
      "67000\n",
      "67500\n",
      "68000\n",
      "68500\n",
      "69000\n",
      "69500\n",
      "70000\n",
      "70500\n",
      "71000\n",
      "71500\n",
      "72000\n",
      "72500\n",
      "73000\n",
      "73500\n",
      "74000\n",
      "74500\n",
      "75000\n"
     ]
    }
   ],
   "source": [
    "df_res = pd.DataFrame()\n",
    "for i in range(500, 75500, 500):\n",
    "    print(i)\n",
    "    result = gl_req(df_test[i-500:i])\n",
    "    df_res = pd.concat([df_res, result], ignore_index=True)\n",
    "    time.sleep(3)"
   ]
  },
  {
   "cell_type": "code",
   "execution_count": null,
   "id": "8312bc49-8e4b-4ec4-b467-9156c55fd0cf",
   "metadata": {},
   "outputs": [],
   "source": []
  },
  {
   "cell_type": "code",
   "execution_count": 49,
   "id": "f5448fc0-f372-46b8-b0ee-e7400d0ddc2e",
   "metadata": {},
   "outputs": [
    {
     "data": {
      "text/plain": [
       "cnt\n",
       "1    74069\n",
       "2        8\n",
       "dtype: int64"
      ]
     },
     "execution_count": 49,
     "metadata": {},
     "output_type": "execute_result"
    }
   ],
   "source": [
    "df_res.groupby(['OrgPin', 'AccountID']).size().rename('cnt').reset_index().groupby('cnt').size()"
   ]
  },
  {
   "cell_type": "code",
   "execution_count": 50,
   "id": "60379f52-d4d7-4923-bbef-bc2657f2865b",
   "metadata": {},
   "outputs": [
    {
     "data": {
      "text/html": [
       "<div>\n",
       "<style scoped>\n",
       "    .dataframe tbody tr th:only-of-type {\n",
       "        vertical-align: middle;\n",
       "    }\n",
       "\n",
       "    .dataframe tbody tr th {\n",
       "        vertical-align: top;\n",
       "    }\n",
       "\n",
       "    .dataframe thead th {\n",
       "        text-align: right;\n",
       "    }\n",
       "</style>\n",
       "<table border=\"1\" class=\"dataframe\">\n",
       "  <thead>\n",
       "    <tr style=\"text-align: right;\">\n",
       "      <th></th>\n",
       "      <th>Description</th>\n",
       "      <th>GLRollup</th>\n",
       "      <th>Prediction</th>\n",
       "      <th>Probability</th>\n",
       "      <th>AccountID</th>\n",
       "      <th>OrgPin</th>\n",
       "    </tr>\n",
       "  </thead>\n",
       "  <tbody>\n",
       "    <tr>\n",
       "      <th>0</th>\n",
       "      <td>ACCTS EST UNCOLL MISC -IP</td>\n",
       "      <td>HOSPITAL - IP</td>\n",
       "      <td>Income Statement - Revenue - Patient - Gross -...</td>\n",
       "      <td>0.507732</td>\n",
       "      <td>3965</td>\n",
       "      <td>1259</td>\n",
       "    </tr>\n",
       "    <tr>\n",
       "      <th>1</th>\n",
       "      <td>ACCTS EST UNCOLL MISC -OP</td>\n",
       "      <td>HOSPITAL - OP</td>\n",
       "      <td>Income Statement - Revenue - Patient - Gross -...</td>\n",
       "      <td>0.422249</td>\n",
       "      <td>5694</td>\n",
       "      <td>1259</td>\n",
       "    </tr>\n",
       "    <tr>\n",
       "      <th>2</th>\n",
       "      <td>BAD DEBT RECOVERIES AGENCY -IP</td>\n",
       "      <td>HOSPITAL - IP</td>\n",
       "      <td>Income Statement - Revenue Deduction - Bad Debt</td>\n",
       "      <td>0.541178</td>\n",
       "      <td>5506</td>\n",
       "      <td>1259</td>\n",
       "    </tr>\n",
       "    <tr>\n",
       "      <th>3</th>\n",
       "      <td>BAD DEBT RECOVERIES HOSP -OP</td>\n",
       "      <td>HOSPITAL - OP</td>\n",
       "      <td>Income Statement - Revenue Deduction - Bad Debt</td>\n",
       "      <td>0.836901</td>\n",
       "      <td>4284</td>\n",
       "      <td>1259</td>\n",
       "    </tr>\n",
       "    <tr>\n",
       "      <th>4</th>\n",
       "      <td>BAD DEBT RECOVERIES HOSP -IP</td>\n",
       "      <td>HOSPITAL - IP</td>\n",
       "      <td>Income Statement - Revenue Deduction - Bad Debt</td>\n",
       "      <td>0.718375</td>\n",
       "      <td>5172</td>\n",
       "      <td>1259</td>\n",
       "    </tr>\n",
       "  </tbody>\n",
       "</table>\n",
       "</div>"
      ],
      "text/plain": [
       "                      Description       GLRollup  \\\n",
       "0       ACCTS EST UNCOLL MISC -IP  HOSPITAL - IP   \n",
       "1       ACCTS EST UNCOLL MISC -OP  HOSPITAL - OP   \n",
       "2  BAD DEBT RECOVERIES AGENCY -IP  HOSPITAL - IP   \n",
       "3    BAD DEBT RECOVERIES HOSP -OP  HOSPITAL - OP   \n",
       "4    BAD DEBT RECOVERIES HOSP -IP  HOSPITAL - IP   \n",
       "\n",
       "                                          Prediction  Probability  AccountID  \\\n",
       "0  Income Statement - Revenue - Patient - Gross -...     0.507732       3965   \n",
       "1  Income Statement - Revenue - Patient - Gross -...     0.422249       5694   \n",
       "2    Income Statement - Revenue Deduction - Bad Debt     0.541178       5506   \n",
       "3    Income Statement - Revenue Deduction - Bad Debt     0.836901       4284   \n",
       "4    Income Statement - Revenue Deduction - Bad Debt     0.718375       5172   \n",
       "\n",
       "  OrgPin  \n",
       "0   1259  \n",
       "1   1259  \n",
       "2   1259  \n",
       "3   1259  \n",
       "4   1259  "
      ]
     },
     "execution_count": 50,
     "metadata": {},
     "output_type": "execute_result"
    }
   ],
   "source": [
    "df_res.head()"
   ]
  },
  {
   "cell_type": "code",
   "execution_count": 51,
   "id": "a0529835-a74e-4507-a688-3edd208ecc3a",
   "metadata": {},
   "outputs": [],
   "source": [
    "dfr = df_res.copy()\n",
    "dfr.columns = [x.lower() for x in dfr.columns]\n",
    "dfr = dfr.drop_duplicates()"
   ]
  },
  {
   "cell_type": "code",
   "execution_count": 76,
   "id": "d07eefb2-c575-4879-9c3b-745de25eb223",
   "metadata": {},
   "outputs": [],
   "source": [
    "dfr.to_csv('C:/Users/hwallace/glaccount/pred_results.csv', index=False)"
   ]
  },
  {
   "cell_type": "code",
   "execution_count": 52,
   "id": "2e135a13-2521-4988-a640-b5ad070a1448",
   "metadata": {},
   "outputs": [
    {
     "data": {
      "text/plain": [
       "cnt\n",
       "1    74069\n",
       "2        8\n",
       "dtype: int64"
      ]
     },
     "execution_count": 52,
     "metadata": {},
     "output_type": "execute_result"
    }
   ],
   "source": [
    "dfr.groupby(['orgpin', 'accountid']).size().rename('cnt').reset_index().groupby('cnt').size()"
   ]
  },
  {
   "cell_type": "code",
   "execution_count": 53,
   "id": "bee2cad8-5512-492d-9d3a-c339fd2183af",
   "metadata": {},
   "outputs": [
    {
     "data": {
      "text/html": [
       "<div>\n",
       "<style scoped>\n",
       "    .dataframe tbody tr th:only-of-type {\n",
       "        vertical-align: middle;\n",
       "    }\n",
       "\n",
       "    .dataframe tbody tr th {\n",
       "        vertical-align: top;\n",
       "    }\n",
       "\n",
       "    .dataframe thead th {\n",
       "        text-align: right;\n",
       "    }\n",
       "</style>\n",
       "<table border=\"1\" class=\"dataframe\">\n",
       "  <thead>\n",
       "    <tr style=\"text-align: right;\">\n",
       "      <th></th>\n",
       "      <th>orgpin</th>\n",
       "      <th>accountid</th>\n",
       "      <th>accountcode</th>\n",
       "      <th>description</th>\n",
       "      <th>glrollup</th>\n",
       "      <th>gldollars</th>\n",
       "      <th>lineitem</th>\n",
       "      <th>review</th>\n",
       "      <th>spaccountrollupcategory</th>\n",
       "      <th>spaccountrollupname</th>\n",
       "      <th>...</th>\n",
       "      <th>dssaccountrollup1name</th>\n",
       "      <th>category</th>\n",
       "      <th>section</th>\n",
       "      <th>statement</th>\n",
       "      <th>isdollarf</th>\n",
       "      <th>isstat</th>\n",
       "      <th>file</th>\n",
       "      <th>orgaccntid</th>\n",
       "      <th>obdollarsfinancialreportingcategory</th>\n",
       "      <th>cnt</th>\n",
       "    </tr>\n",
       "  </thead>\n",
       "  <tbody>\n",
       "    <tr>\n",
       "      <th>0</th>\n",
       "      <td>1259</td>\n",
       "      <td>3965</td>\n",
       "      <td>41000-0000</td>\n",
       "      <td>ACCTS EST UNCOLL MISC -IP</td>\n",
       "      <td>HOSPITAL - IP</td>\n",
       "      <td>2.872130e+08</td>\n",
       "      <td>Revenue - Inpatient</td>\n",
       "      <td>Bad Debt</td>\n",
       "      <td>Deductions - Bad Debt</td>\n",
       "      <td>Bad Debt</td>\n",
       "      <td>...</td>\n",
       "      <td>Not Specified</td>\n",
       "      <td>Revenue - Patient - Gross</td>\n",
       "      <td>Revenue</td>\n",
       "      <td>Income Statement</td>\n",
       "      <td>1.0</td>\n",
       "      <td>0.0</td>\n",
       "      <td>C:/Users/hwallace/glaccount/results\\1259 GL Ac...</td>\n",
       "      <td>NaN</td>\n",
       "      <td>NaN</td>\n",
       "      <td>1.0</td>\n",
       "    </tr>\n",
       "    <tr>\n",
       "      <th>1</th>\n",
       "      <td>1259</td>\n",
       "      <td>5694</td>\n",
       "      <td>41005-0000</td>\n",
       "      <td>ACCTS EST UNCOLL MISC -OP</td>\n",
       "      <td>HOSPITAL - OP</td>\n",
       "      <td>1.834493e+08</td>\n",
       "      <td>Revenue - Outpatient</td>\n",
       "      <td>Bad Debt</td>\n",
       "      <td>Deductions - Bad Debt</td>\n",
       "      <td>Bad Debt</td>\n",
       "      <td>...</td>\n",
       "      <td>Not Specified</td>\n",
       "      <td>Revenue - Patient - Gross</td>\n",
       "      <td>Revenue</td>\n",
       "      <td>Income Statement</td>\n",
       "      <td>1.0</td>\n",
       "      <td>0.0</td>\n",
       "      <td>C:/Users/hwallace/glaccount/results\\1259 GL Ac...</td>\n",
       "      <td>NaN</td>\n",
       "      <td>NaN</td>\n",
       "      <td>1.0</td>\n",
       "    </tr>\n",
       "    <tr>\n",
       "      <th>2</th>\n",
       "      <td>1259</td>\n",
       "      <td>5506</td>\n",
       "      <td>41011-0000</td>\n",
       "      <td>BAD DEBT RECOVERIES AGENCY -IP</td>\n",
       "      <td>HOSPITAL - IP</td>\n",
       "      <td>-1.723962e+07</td>\n",
       "      <td>Bad Debt</td>\n",
       "      <td>NaN</td>\n",
       "      <td>Deductions - Bad Debt</td>\n",
       "      <td>Bad Debt</td>\n",
       "      <td>...</td>\n",
       "      <td>Not Specified</td>\n",
       "      <td>Revenue Deduction</td>\n",
       "      <td>Revenue</td>\n",
       "      <td>Income Statement</td>\n",
       "      <td>1.0</td>\n",
       "      <td>0.0</td>\n",
       "      <td>C:/Users/hwallace/glaccount/results\\1259 GL Ac...</td>\n",
       "      <td>NaN</td>\n",
       "      <td>NaN</td>\n",
       "      <td>1.0</td>\n",
       "    </tr>\n",
       "    <tr>\n",
       "      <th>3</th>\n",
       "      <td>1259</td>\n",
       "      <td>4284</td>\n",
       "      <td>41014-0000</td>\n",
       "      <td>BAD DEBT RECOVERIES HOSP -OP</td>\n",
       "      <td>HOSPITAL - OP</td>\n",
       "      <td>-5.429000e+01</td>\n",
       "      <td>Bad Debt</td>\n",
       "      <td>NaN</td>\n",
       "      <td>Deductions - Bad Debt</td>\n",
       "      <td>Bad Debt</td>\n",
       "      <td>...</td>\n",
       "      <td>Not Specified</td>\n",
       "      <td>Revenue Deduction</td>\n",
       "      <td>Revenue</td>\n",
       "      <td>Income Statement</td>\n",
       "      <td>1.0</td>\n",
       "      <td>0.0</td>\n",
       "      <td>C:/Users/hwallace/glaccount/results\\1259 GL Ac...</td>\n",
       "      <td>NaN</td>\n",
       "      <td>NaN</td>\n",
       "      <td>1.0</td>\n",
       "    </tr>\n",
       "    <tr>\n",
       "      <th>4</th>\n",
       "      <td>1259</td>\n",
       "      <td>5172</td>\n",
       "      <td>41012-0000</td>\n",
       "      <td>BAD DEBT RECOVERIES HOSP -IP</td>\n",
       "      <td>HOSPITAL - IP</td>\n",
       "      <td>-8.152721e+06</td>\n",
       "      <td>Bad Debt</td>\n",
       "      <td>NaN</td>\n",
       "      <td>Deductions - Bad Debt</td>\n",
       "      <td>Bad Debt</td>\n",
       "      <td>...</td>\n",
       "      <td>Not Specified</td>\n",
       "      <td>Revenue Deduction</td>\n",
       "      <td>Revenue</td>\n",
       "      <td>Income Statement</td>\n",
       "      <td>1.0</td>\n",
       "      <td>0.0</td>\n",
       "      <td>C:/Users/hwallace/glaccount/results\\1259 GL Ac...</td>\n",
       "      <td>NaN</td>\n",
       "      <td>NaN</td>\n",
       "      <td>1.0</td>\n",
       "    </tr>\n",
       "  </tbody>\n",
       "</table>\n",
       "<p>5 rows × 21 columns</p>\n",
       "</div>"
      ],
      "text/plain": [
       "  orgpin  accountid accountcode                     description  \\\n",
       "0   1259       3965  41000-0000       ACCTS EST UNCOLL MISC -IP   \n",
       "1   1259       5694  41005-0000       ACCTS EST UNCOLL MISC -OP   \n",
       "2   1259       5506  41011-0000  BAD DEBT RECOVERIES AGENCY -IP   \n",
       "3   1259       4284  41014-0000    BAD DEBT RECOVERIES HOSP -OP   \n",
       "4   1259       5172  41012-0000    BAD DEBT RECOVERIES HOSP -IP   \n",
       "\n",
       "        glrollup     gldollars              lineitem    review  \\\n",
       "0  HOSPITAL - IP  2.872130e+08   Revenue - Inpatient  Bad Debt   \n",
       "1  HOSPITAL - OP  1.834493e+08  Revenue - Outpatient  Bad Debt   \n",
       "2  HOSPITAL - IP -1.723962e+07              Bad Debt       NaN   \n",
       "3  HOSPITAL - OP -5.429000e+01              Bad Debt       NaN   \n",
       "4  HOSPITAL - IP -8.152721e+06              Bad Debt       NaN   \n",
       "\n",
       "  spaccountrollupcategory spaccountrollupname  ... dssaccountrollup1name  \\\n",
       "0   Deductions - Bad Debt            Bad Debt  ...         Not Specified   \n",
       "1   Deductions - Bad Debt            Bad Debt  ...         Not Specified   \n",
       "2   Deductions - Bad Debt            Bad Debt  ...         Not Specified   \n",
       "3   Deductions - Bad Debt            Bad Debt  ...         Not Specified   \n",
       "4   Deductions - Bad Debt            Bad Debt  ...         Not Specified   \n",
       "\n",
       "                    category  section         statement isdollarf  isstat  \\\n",
       "0  Revenue - Patient - Gross  Revenue  Income Statement       1.0     0.0   \n",
       "1  Revenue - Patient - Gross  Revenue  Income Statement       1.0     0.0   \n",
       "2          Revenue Deduction  Revenue  Income Statement       1.0     0.0   \n",
       "3          Revenue Deduction  Revenue  Income Statement       1.0     0.0   \n",
       "4          Revenue Deduction  Revenue  Income Statement       1.0     0.0   \n",
       "\n",
       "                                                file orgaccntid  \\\n",
       "0  C:/Users/hwallace/glaccount/results\\1259 GL Ac...        NaN   \n",
       "1  C:/Users/hwallace/glaccount/results\\1259 GL Ac...        NaN   \n",
       "2  C:/Users/hwallace/glaccount/results\\1259 GL Ac...        NaN   \n",
       "3  C:/Users/hwallace/glaccount/results\\1259 GL Ac...        NaN   \n",
       "4  C:/Users/hwallace/glaccount/results\\1259 GL Ac...        NaN   \n",
       "\n",
       "   obdollarsfinancialreportingcategory  cnt  \n",
       "0                                  NaN  1.0  \n",
       "1                                  NaN  1.0  \n",
       "2                                  NaN  1.0  \n",
       "3                                  NaN  1.0  \n",
       "4                                  NaN  1.0  \n",
       "\n",
       "[5 rows x 21 columns]"
      ]
     },
     "execution_count": 53,
     "metadata": {},
     "output_type": "execute_result"
    }
   ],
   "source": [
    "df.head()"
   ]
  },
  {
   "cell_type": "markdown",
   "id": "761bcd94-de20-4234-9d7d-088e529fc5ca",
   "metadata": {},
   "source": [
    "## Join the results back to the original dataframe"
   ]
  },
  {
   "cell_type": "code",
   "execution_count": 54,
   "id": "15519670-b1a6-45d3-88e6-dd5738c40c1a",
   "metadata": {},
   "outputs": [],
   "source": [
    "df['description'] = df['description'].fillna('')\n",
    "df['glrollup'] = df['glrollup'].fillna('')\n",
    "df['orgpin'] = df['orgpin'].astype(str)\n",
    "df['accountid'] = df['accountid'].astype(int)\n",
    "df['description'] = df['description'].astype(str)\n",
    "df['glrollup'] = df['glrollup'].astype(str)"
   ]
  },
  {
   "cell_type": "code",
   "execution_count": 56,
   "id": "c6c1642e-0434-4e70-a623-e61f53177493",
   "metadata": {},
   "outputs": [
    {
     "data": {
      "text/plain": [
       "description    0\n",
       "glrollup       0\n",
       "prediction     0\n",
       "probability    0\n",
       "accountid      0\n",
       "orgpin         0\n",
       "dtype: int64"
      ]
     },
     "execution_count": 56,
     "metadata": {},
     "output_type": "execute_result"
    }
   ],
   "source": [
    "dfr.isnull().sum()"
   ]
  },
  {
   "cell_type": "code",
   "execution_count": 57,
   "id": "0e0327c3-4d8d-4822-80a8-9282f780ec6a",
   "metadata": {},
   "outputs": [],
   "source": [
    "dfm = df.merge(dfr, on=['accountid','orgpin','glrollup','description'])"
   ]
  },
  {
   "cell_type": "code",
   "execution_count": 58,
   "id": "f1b980db-7628-48da-93c6-5d0056a526c2",
   "metadata": {},
   "outputs": [
    {
     "data": {
      "text/plain": [
       "(74781, 21)"
      ]
     },
     "execution_count": 58,
     "metadata": {},
     "output_type": "execute_result"
    }
   ],
   "source": [
    "df.shape"
   ]
  },
  {
   "cell_type": "code",
   "execution_count": 59,
   "id": "af87dc1d-6b7b-4f1a-9c65-db97f8b23ceb",
   "metadata": {},
   "outputs": [
    {
     "data": {
      "text/plain": [
       "(74085, 6)"
      ]
     },
     "execution_count": 59,
     "metadata": {},
     "output_type": "execute_result"
    }
   ],
   "source": [
    "dfr.shape"
   ]
  },
  {
   "cell_type": "code",
   "execution_count": 60,
   "id": "0fa82334-4985-4576-bd82-805438272fc7",
   "metadata": {},
   "outputs": [
    {
     "data": {
      "text/plain": [
       "(74179, 23)"
      ]
     },
     "execution_count": 60,
     "metadata": {},
     "output_type": "execute_result"
    }
   ],
   "source": [
    "dfm.shape"
   ]
  },
  {
   "cell_type": "code",
   "execution_count": 61,
   "id": "7c26ab7a-f140-435f-9eff-f5d0c51ccc8b",
   "metadata": {},
   "outputs": [
    {
     "data": {
      "text/plain": [
       "cnt\n",
       "1    74599\n",
       "2       76\n",
       "3       10\n",
       "dtype: int64"
      ]
     },
     "execution_count": 61,
     "metadata": {},
     "output_type": "execute_result"
    }
   ],
   "source": [
    "df.groupby(['orgpin', 'accountid','description','glrollup']).size().rename('cnt').reset_index().groupby('cnt').size()"
   ]
  },
  {
   "cell_type": "code",
   "execution_count": 62,
   "id": "2731d3f2-9a20-48f3-a4ac-87a42d976eed",
   "metadata": {},
   "outputs": [
    {
     "data": {
      "text/plain": [
       "cnt\n",
       "1    74001\n",
       "2       74\n",
       "3       10\n",
       "dtype: int64"
      ]
     },
     "execution_count": 62,
     "metadata": {},
     "output_type": "execute_result"
    }
   ],
   "source": [
    "dfm.groupby(['orgpin', 'accountid','description','glrollup']).size().rename('cnt').reset_index().groupby('cnt').size()"
   ]
  },
  {
   "cell_type": "markdown",
   "id": "8b815d59-8d59-4cf7-a42c-f04d3b7ddc70",
   "metadata": {},
   "source": [
    "## Begin Analysis"
   ]
  },
  {
   "cell_type": "code",
   "execution_count": 65,
   "id": "a62c85ba-de56-485a-8bb0-5b6488523d11",
   "metadata": {},
   "outputs": [],
   "source": [
    "dfm['label'] = 0\n",
    "dfm.loc[dfm.review.isnull(), 'label'] = 1\n",
    "dfm = dfm.rename({'probability':'confidence', 'prediction':'label_pred'}, axis=1)"
   ]
  },
  {
   "cell_type": "code",
   "execution_count": 66,
   "id": "d18b1671-ef50-4ac3-880b-46802dff7bc8",
   "metadata": {},
   "outputs": [
    {
     "data": {
      "text/plain": [
       "43975"
      ]
     },
     "execution_count": 66,
     "metadata": {},
     "output_type": "execute_result"
    }
   ],
   "source": [
    "dfm.review.isnull().sum()"
   ]
  },
  {
   "cell_type": "markdown",
   "id": "3ecfa873-811f-4f49-87cf-4df19968dc8c",
   "metadata": {},
   "source": [
    "## The confidence scores are NOT well calibrated"
   ]
  },
  {
   "cell_type": "code",
   "execution_count": 67,
   "id": "3853c4b0-50a2-43a3-a6f8-e1f15acef33c",
   "metadata": {},
   "outputs": [
    {
     "data": {
      "image/png": "[encoded data removed]",
      "text/plain": [
       "<Figure size 640x480 with 1 Axes>"
      ]
     },
     "metadata": {},
     "output_type": "display_data"
    }
   ],
   "source": [
    "disp = CalibrationDisplay.from_predictions(dfm['label'], dfm['confidence'], n_bins=10, strategy='quantile')"
   ]
  },
  {
   "cell_type": "code",
   "execution_count": 68,
   "id": "538f1181-2053-4c37-92e8-b3afa26282be",
   "metadata": {},
   "outputs": [
    {
     "data": {
      "text/plain": [
       "{'prob_true': array([0.26601492, 0.27157001, 0.56666667, 0.6942068 , 0.67159763,\n",
       "        0.73550551, 0.70081086, 0.75496426, 0.60519088, 0.65462389]),\n",
       " 'prob_pred': array([0.20646195, 0.3452023 , 0.46988114, 0.5944406 , 0.69544752,\n",
       "        0.78377481, 0.8466623 , 0.91191382, 0.95310807, 0.98470968]),\n",
       " 'y_prob': 0        0.507732\n",
       " 1        0.422249\n",
       " 2        0.541178\n",
       " 3        0.836901\n",
       " 4        0.718375\n",
       "            ...   \n",
       " 74174    0.721933\n",
       " 74175    0.600705\n",
       " 74176    0.424765\n",
       " 74177    0.699503\n",
       " 74178    0.606913\n",
       " Name: confidence, Length: 74179, dtype: float64,\n",
       " 'estimator_name': 'Classifier',\n",
       " 'pos_label': 1,\n",
       " 'line_': <matplotlib.lines.Line2D at 0x2cde7ba0cd0>,\n",
       " 'ax_': <Axes: xlabel='Mean predicted probability (Positive class: 1)', ylabel='Fraction of positives (Positive class: 1)'>,\n",
       " 'figure_': <Figure size 640x480 with 1 Axes>}"
      ]
     },
     "execution_count": 68,
     "metadata": {},
     "output_type": "execute_result"
    }
   ],
   "source": [
    "disp.__dict__"
   ]
  },
  {
   "cell_type": "code",
   "execution_count": 69,
   "id": "2178b84b-fbbb-48be-bff7-71de616eec40",
   "metadata": {},
   "outputs": [],
   "source": [
    "dfm['row_cnt'] = 1"
   ]
  },
  {
   "cell_type": "markdown",
   "id": "60b05177-c7bf-49ab-82e7-f25b243644b3",
   "metadata": {},
   "source": [
    "## When you look at the calibration by label, it's very inconsistent. Some labels have horrible performance, some have great performance, and it's not connected very well to the confidence score.\n",
    "\n",
    "## The model doesn't perform great outside of the training sample it was fit on"
   ]
  },
  {
   "cell_type": "code",
   "execution_count": 70,
   "id": "63ce2142-2c9a-4530-8686-5ad4c33d7a0a",
   "metadata": {},
   "outputs": [
    {
     "data": {
      "text/html": [
       "<div>\n",
       "<style scoped>\n",
       "    .dataframe tbody tr th:only-of-type {\n",
       "        vertical-align: middle;\n",
       "    }\n",
       "\n",
       "    .dataframe tbody tr th {\n",
       "        vertical-align: top;\n",
       "    }\n",
       "\n",
       "    .dataframe thead th {\n",
       "        text-align: right;\n",
       "    }\n",
       "</style>\n",
       "<table border=\"1\" class=\"dataframe\">\n",
       "  <thead>\n",
       "    <tr style=\"text-align: right;\">\n",
       "      <th></th>\n",
       "      <th>row_cnt</th>\n",
       "      <th>mean_confidence_score</th>\n",
       "      <th>proportion_correct</th>\n",
       "      <th>difference</th>\n",
       "    </tr>\n",
       "    <tr>\n",
       "      <th>label_pred</th>\n",
       "      <th></th>\n",
       "      <th></th>\n",
       "      <th></th>\n",
       "      <th></th>\n",
       "    </tr>\n",
       "  </thead>\n",
       "  <tbody>\n",
       "    <tr>\n",
       "      <th>Income Statement - Revenue - Other - Operating - Intercompany Revenue</th>\n",
       "      <td>279</td>\n",
       "      <td>0.895606</td>\n",
       "      <td>0.032258</td>\n",
       "      <td>-0.863348</td>\n",
       "    </tr>\n",
       "    <tr>\n",
       "      <th>Income Statement - Revenue - Other - Operating - Other Operating Revenue</th>\n",
       "      <td>6904</td>\n",
       "      <td>0.754427</td>\n",
       "      <td>0.170626</td>\n",
       "      <td>-0.583802</td>\n",
       "    </tr>\n",
       "    <tr>\n",
       "      <th>Income Statement - Revenue Deduction - Bad Debt</th>\n",
       "      <td>410</td>\n",
       "      <td>0.804025</td>\n",
       "      <td>0.387805</td>\n",
       "      <td>-0.416220</td>\n",
       "    </tr>\n",
       "    <tr>\n",
       "      <th>Income Statement - Revenue Deduction - Charity Care</th>\n",
       "      <td>246</td>\n",
       "      <td>0.830563</td>\n",
       "      <td>0.463415</td>\n",
       "      <td>-0.367149</td>\n",
       "    </tr>\n",
       "    <tr>\n",
       "      <th>Income Statement - Revenue - Patient - Gross - Revenue - Outpatient</th>\n",
       "      <td>928</td>\n",
       "      <td>0.801019</td>\n",
       "      <td>0.453664</td>\n",
       "      <td>-0.347355</td>\n",
       "    </tr>\n",
       "    <tr>\n",
       "      <th>Income Statement - Revenue - Other - Nonoperating Items - Nonoperating income (loss)</th>\n",
       "      <td>2190</td>\n",
       "      <td>0.363166</td>\n",
       "      <td>0.036073</td>\n",
       "      <td>-0.327093</td>\n",
       "    </tr>\n",
       "    <tr>\n",
       "      <th>Income Statement - Expenses - Operating - Other Expenses - General and Admin</th>\n",
       "      <td>327</td>\n",
       "      <td>0.514460</td>\n",
       "      <td>0.192661</td>\n",
       "      <td>-0.321799</td>\n",
       "    </tr>\n",
       "    <tr>\n",
       "      <th>Income Statement - Expenses - Operating - Benefits - Travel and Education</th>\n",
       "      <td>411</td>\n",
       "      <td>0.526238</td>\n",
       "      <td>0.226277</td>\n",
       "      <td>-0.299961</td>\n",
       "    </tr>\n",
       "    <tr>\n",
       "      <th>Balance Sheet - Liabilities - Current - Accrued Expenses</th>\n",
       "      <td>299</td>\n",
       "      <td>0.795951</td>\n",
       "      <td>0.508361</td>\n",
       "      <td>-0.287590</td>\n",
       "    </tr>\n",
       "    <tr>\n",
       "      <th>Income Statement - Expenses - Operating - Professional Fees</th>\n",
       "      <td>463</td>\n",
       "      <td>0.680874</td>\n",
       "      <td>0.403888</td>\n",
       "      <td>-0.276987</td>\n",
       "    </tr>\n",
       "    <tr>\n",
       "      <th>Unable -  to - Categorize</th>\n",
       "      <td>299</td>\n",
       "      <td>0.537102</td>\n",
       "      <td>0.270903</td>\n",
       "      <td>-0.266199</td>\n",
       "    </tr>\n",
       "    <tr>\n",
       "      <th>Balance Sheet - Assets - Investment - Assets Limited as to Use</th>\n",
       "      <td>254</td>\n",
       "      <td>0.564009</td>\n",
       "      <td>0.311024</td>\n",
       "      <td>-0.252985</td>\n",
       "    </tr>\n",
       "    <tr>\n",
       "      <th>Income Statement - Revenue - Patient - Gross - Revenue - Inpatient</th>\n",
       "      <td>534</td>\n",
       "      <td>0.811683</td>\n",
       "      <td>0.561798</td>\n",
       "      <td>-0.249886</td>\n",
       "    </tr>\n",
       "    <tr>\n",
       "      <th>Income Statement - Expenses - Operating - Supplies - Implants</th>\n",
       "      <td>214</td>\n",
       "      <td>0.825084</td>\n",
       "      <td>0.588785</td>\n",
       "      <td>-0.236299</td>\n",
       "    </tr>\n",
       "    <tr>\n",
       "      <th>Balance Sheet - Net Assets - Temporarily Restricted - Temporarily Restricted Net Assets</th>\n",
       "      <td>4266</td>\n",
       "      <td>0.850888</td>\n",
       "      <td>0.623301</td>\n",
       "      <td>-0.227588</td>\n",
       "    </tr>\n",
       "    <tr>\n",
       "      <th>Balance Sheet - Assets - Noncurrent - Other Noncurrent Assets</th>\n",
       "      <td>716</td>\n",
       "      <td>0.517093</td>\n",
       "      <td>0.337989</td>\n",
       "      <td>-0.179104</td>\n",
       "    </tr>\n",
       "    <tr>\n",
       "      <th>Income Statement - Revenue Deduction - Contractual Allowances</th>\n",
       "      <td>2722</td>\n",
       "      <td>0.722133</td>\n",
       "      <td>0.556576</td>\n",
       "      <td>-0.165557</td>\n",
       "    </tr>\n",
       "    <tr>\n",
       "      <th>Income Statement - Expenses - Operating - Benefits - Other</th>\n",
       "      <td>2884</td>\n",
       "      <td>0.865521</td>\n",
       "      <td>0.710818</td>\n",
       "      <td>-0.154703</td>\n",
       "    </tr>\n",
       "    <tr>\n",
       "      <th>Income Statement - Expenses - Operating - Purchased Services</th>\n",
       "      <td>2029</td>\n",
       "      <td>0.676765</td>\n",
       "      <td>0.547068</td>\n",
       "      <td>-0.129697</td>\n",
       "    </tr>\n",
       "    <tr>\n",
       "      <th>Balance Sheet - Assets - Current - Prepaid Expense</th>\n",
       "      <td>303</td>\n",
       "      <td>0.893758</td>\n",
       "      <td>0.765677</td>\n",
       "      <td>-0.128081</td>\n",
       "    </tr>\n",
       "    <tr>\n",
       "      <th>Balance Sheet - Liabilities - Current - Other Current Liabilities</th>\n",
       "      <td>305</td>\n",
       "      <td>0.590487</td>\n",
       "      <td>0.478689</td>\n",
       "      <td>-0.111798</td>\n",
       "    </tr>\n",
       "    <tr>\n",
       "      <th>Income Statement - Expenses - Interest - Interest</th>\n",
       "      <td>359</td>\n",
       "      <td>0.840740</td>\n",
       "      <td>0.738162</td>\n",
       "      <td>-0.102578</td>\n",
       "    </tr>\n",
       "    <tr>\n",
       "      <th>Balance Sheet - Assets - Patient Accounts Receivable (Gross) - Accounts Receivable (Gross)</th>\n",
       "      <td>1197</td>\n",
       "      <td>0.498250</td>\n",
       "      <td>0.398496</td>\n",
       "      <td>-0.099753</td>\n",
       "    </tr>\n",
       "    <tr>\n",
       "      <th>Balance Sheet - Liabilities - Noncurrent - Long Term Liabilities</th>\n",
       "      <td>1537</td>\n",
       "      <td>0.282019</td>\n",
       "      <td>0.186727</td>\n",
       "      <td>-0.095292</td>\n",
       "    </tr>\n",
       "    <tr>\n",
       "      <th>Balance Sheet - Assets - Current - Accounts Receivable - Other</th>\n",
       "      <td>2628</td>\n",
       "      <td>0.506475</td>\n",
       "      <td>0.412100</td>\n",
       "      <td>-0.094375</td>\n",
       "    </tr>\n",
       "    <tr>\n",
       "      <th>Income Statement - Expenses - Operating - Supplies</th>\n",
       "      <td>1781</td>\n",
       "      <td>0.638274</td>\n",
       "      <td>0.554183</td>\n",
       "      <td>-0.084091</td>\n",
       "    </tr>\n",
       "    <tr>\n",
       "      <th>Income Statement - Expenses - Operating - Repairs and Maintenance</th>\n",
       "      <td>392</td>\n",
       "      <td>0.767995</td>\n",
       "      <td>0.686224</td>\n",
       "      <td>-0.081771</td>\n",
       "    </tr>\n",
       "    <tr>\n",
       "      <th>Balance Sheet - Liabilities - Current - Accrued Employee Compensation and Benefits</th>\n",
       "      <td>1156</td>\n",
       "      <td>0.631855</td>\n",
       "      <td>0.554498</td>\n",
       "      <td>-0.077357</td>\n",
       "    </tr>\n",
       "    <tr>\n",
       "      <th>Balance Sheet - Liabilities - Current - Due to affiliates (Current Portion)</th>\n",
       "      <td>212</td>\n",
       "      <td>0.631094</td>\n",
       "      <td>0.561321</td>\n",
       "      <td>-0.069773</td>\n",
       "    </tr>\n",
       "    <tr>\n",
       "      <th>Income Statement - Expenses - Operating - Supplies - Chargeable Medical</th>\n",
       "      <td>1469</td>\n",
       "      <td>0.719685</td>\n",
       "      <td>0.663036</td>\n",
       "      <td>-0.056649</td>\n",
       "    </tr>\n",
       "    <tr>\n",
       "      <th>Balance Sheet - Assets - Inventory - Inventory</th>\n",
       "      <td>585</td>\n",
       "      <td>0.855760</td>\n",
       "      <td>0.801709</td>\n",
       "      <td>-0.054050</td>\n",
       "    </tr>\n",
       "    <tr>\n",
       "      <th>Balance Sheet - Debt - Long Term - Long Term Debt</th>\n",
       "      <td>338</td>\n",
       "      <td>0.736886</td>\n",
       "      <td>0.701183</td>\n",
       "      <td>-0.035703</td>\n",
       "    </tr>\n",
       "    <tr>\n",
       "      <th>Income Statement - Expenses - Operating - Utilities</th>\n",
       "      <td>464</td>\n",
       "      <td>0.726792</td>\n",
       "      <td>0.704741</td>\n",
       "      <td>-0.022051</td>\n",
       "    </tr>\n",
       "    <tr>\n",
       "      <th>Income Statement - Expenses - Operating - Purchased Services - Consulting</th>\n",
       "      <td>699</td>\n",
       "      <td>0.745318</td>\n",
       "      <td>0.753934</td>\n",
       "      <td>0.008617</td>\n",
       "    </tr>\n",
       "    <tr>\n",
       "      <th>Income Statement - Revenue - Other - Nonoperating Items - Other Nonoperating Rev (Exp)</th>\n",
       "      <td>325</td>\n",
       "      <td>0.848284</td>\n",
       "      <td>0.858462</td>\n",
       "      <td>0.010178</td>\n",
       "    </tr>\n",
       "    <tr>\n",
       "      <th>Income Statement - Expenses - Operating - Information Technology and Software</th>\n",
       "      <td>370</td>\n",
       "      <td>0.698390</td>\n",
       "      <td>0.710811</td>\n",
       "      <td>0.012421</td>\n",
       "    </tr>\n",
       "    <tr>\n",
       "      <th>Balance Sheet - Liabilities - Accounts Payable - Accounts Payable</th>\n",
       "      <td>472</td>\n",
       "      <td>0.770353</td>\n",
       "      <td>0.783898</td>\n",
       "      <td>0.013546</td>\n",
       "    </tr>\n",
       "    <tr>\n",
       "      <th>Balance Sheet - Assets - Current - Accounts Receivable - Due from Related Parties</th>\n",
       "      <td>314</td>\n",
       "      <td>0.567973</td>\n",
       "      <td>0.595541</td>\n",
       "      <td>0.027569</td>\n",
       "    </tr>\n",
       "    <tr>\n",
       "      <th>Balance Sheet - Net Assets - Unrestricted - Unrestricted Net Assets</th>\n",
       "      <td>2072</td>\n",
       "      <td>0.929447</td>\n",
       "      <td>0.961390</td>\n",
       "      <td>0.031943</td>\n",
       "    </tr>\n",
       "    <tr>\n",
       "      <th>Balance Sheet - Assets - Current - Cash and Cash Equivalents</th>\n",
       "      <td>863</td>\n",
       "      <td>0.814029</td>\n",
       "      <td>0.855156</td>\n",
       "      <td>0.041127</td>\n",
       "    </tr>\n",
       "    <tr>\n",
       "      <th>Balance Sheet - Assets - Investment - Other Investments</th>\n",
       "      <td>349</td>\n",
       "      <td>0.523339</td>\n",
       "      <td>0.573066</td>\n",
       "      <td>0.049727</td>\n",
       "    </tr>\n",
       "    <tr>\n",
       "      <th>Balance Sheet - Assets - Accounts Receivable Contractual Allowance - Accounts Receivable - Contractual Allowance</th>\n",
       "      <td>358</td>\n",
       "      <td>0.549957</td>\n",
       "      <td>0.600559</td>\n",
       "      <td>0.050601</td>\n",
       "    </tr>\n",
       "    <tr>\n",
       "      <th>Balance Sheet - Assets - Depreciable - Property/Plant/Equipment</th>\n",
       "      <td>495</td>\n",
       "      <td>0.589170</td>\n",
       "      <td>0.640404</td>\n",
       "      <td>0.051234</td>\n",
       "    </tr>\n",
       "    <tr>\n",
       "      <th>Income Statement - Expenses - Operating - Contract Labor</th>\n",
       "      <td>272</td>\n",
       "      <td>0.772049</td>\n",
       "      <td>0.838235</td>\n",
       "      <td>0.066186</td>\n",
       "    </tr>\n",
       "    <tr>\n",
       "      <th>Income Statement - Expenses - Operating - Other Expenses - Food</th>\n",
       "      <td>553</td>\n",
       "      <td>0.805511</td>\n",
       "      <td>0.877034</td>\n",
       "      <td>0.071523</td>\n",
       "    </tr>\n",
       "    <tr>\n",
       "      <th>Balance Sheet - Assets - CIP - CIP</th>\n",
       "      <td>1402</td>\n",
       "      <td>0.866332</td>\n",
       "      <td>0.960770</td>\n",
       "      <td>0.094438</td>\n",
       "    </tr>\n",
       "    <tr>\n",
       "      <th>Balance Sheet - Assets - Accumulated Depreciation - Accumulated Depreciation</th>\n",
       "      <td>304</td>\n",
       "      <td>0.801446</td>\n",
       "      <td>0.901316</td>\n",
       "      <td>0.099870</td>\n",
       "    </tr>\n",
       "    <tr>\n",
       "      <th>Income Statement - Expenses - Operating - Other Expenses</th>\n",
       "      <td>8303</td>\n",
       "      <td>0.548705</td>\n",
       "      <td>0.651933</td>\n",
       "      <td>0.103228</td>\n",
       "    </tr>\n",
       "    <tr>\n",
       "      <th>Income Statement - Expenses - Operating - Salaries</th>\n",
       "      <td>6199</td>\n",
       "      <td>0.748432</td>\n",
       "      <td>0.896435</td>\n",
       "      <td>0.148003</td>\n",
       "    </tr>\n",
       "    <tr>\n",
       "      <th>Income Statement - Expenses - Operating - Purchased Services - Reference Testing</th>\n",
       "      <td>448</td>\n",
       "      <td>0.772601</td>\n",
       "      <td>0.950893</td>\n",
       "      <td>0.178292</td>\n",
       "    </tr>\n",
       "    <tr>\n",
       "      <th>Balance Sheet - Assets - Accounts Receivable Allowance for Doubtful Accounts - Accounts Receivable - Allowance for Doubtful Accounts</th>\n",
       "      <td>356</td>\n",
       "      <td>0.591510</td>\n",
       "      <td>0.789326</td>\n",
       "      <td>0.197816</td>\n",
       "    </tr>\n",
       "    <tr>\n",
       "      <th>Income Statement - Expenses - Operating - Salaries - Overtime</th>\n",
       "      <td>755</td>\n",
       "      <td>0.710203</td>\n",
       "      <td>0.953642</td>\n",
       "      <td>0.243439</td>\n",
       "    </tr>\n",
       "    <tr>\n",
       "      <th>Income Statement - Expenses - Operating - Drugs</th>\n",
       "      <td>816</td>\n",
       "      <td>0.577063</td>\n",
       "      <td>0.867647</td>\n",
       "      <td>0.290584</td>\n",
       "    </tr>\n",
       "    <tr>\n",
       "      <th>Income Statement - Revenue - Other - Nonoperating Items - Contributions</th>\n",
       "      <td>1305</td>\n",
       "      <td>0.448831</td>\n",
       "      <td>0.783142</td>\n",
       "      <td>0.334311</td>\n",
       "    </tr>\n",
       "    <tr>\n",
       "      <th>Balance Sheet - Net Assets - Permantly Restricted - Permantly Restricted Net Assets</th>\n",
       "      <td>692</td>\n",
       "      <td>0.436494</td>\n",
       "      <td>0.787572</td>\n",
       "      <td>0.351078</td>\n",
       "    </tr>\n",
       "    <tr>\n",
       "      <th>Income Statement - Expenses - Operating - Supplies - Office</th>\n",
       "      <td>345</td>\n",
       "      <td>0.531864</td>\n",
       "      <td>0.944928</td>\n",
       "      <td>0.413063</td>\n",
       "    </tr>\n",
       "    <tr>\n",
       "      <th>Income Statement - Revenue - Other - Operating - Net Assets Released for Use in Operations</th>\n",
       "      <td>874</td>\n",
       "      <td>0.452910</td>\n",
       "      <td>0.967963</td>\n",
       "      <td>0.515053</td>\n",
       "    </tr>\n",
       "  </tbody>\n",
       "</table>\n",
       "</div>"
      ],
      "text/plain": [
       "                                                    row_cnt  \\\n",
       "label_pred                                                    \n",
       "Income Statement - Revenue - Other - Operating ...      279   \n",
       "Income Statement - Revenue - Other - Operating ...     6904   \n",
       "Income Statement - Revenue Deduction - Bad Debt         410   \n",
       "Income Statement - Revenue Deduction - Charity ...      246   \n",
       "Income Statement - Revenue - Patient - Gross - ...      928   \n",
       "Income Statement - Revenue - Other - Nonoperati...     2190   \n",
       "Income Statement - Expenses - Operating - Other...      327   \n",
       "Income Statement - Expenses - Operating - Benef...      411   \n",
       "Balance Sheet - Liabilities - Current - Accrued...      299   \n",
       "Income Statement - Expenses - Operating - Profe...      463   \n",
       "Unable -  to - Categorize                               299   \n",
       "Balance Sheet - Assets - Investment - Assets Li...      254   \n",
       "Income Statement - Revenue - Patient - Gross - ...      534   \n",
       "Income Statement - Expenses - Operating - Suppl...      214   \n",
       "Balance Sheet - Net Assets - Temporarily Restri...     4266   \n",
       "Balance Sheet - Assets - Noncurrent - Other Non...      716   \n",
       "Income Statement - Revenue Deduction - Contract...     2722   \n",
       "Income Statement - Expenses - Operating - Benef...     2884   \n",
       "Income Statement - Expenses - Operating - Purch...     2029   \n",
       "Balance Sheet - Assets - Current - Prepaid Expense      303   \n",
       "Balance Sheet - Liabilities - Current - Other C...      305   \n",
       "Income Statement - Expenses - Interest - Interest       359   \n",
       "Balance Sheet - Assets - Patient Accounts Recei...     1197   \n",
       "Balance Sheet - Liabilities - Noncurrent - Long...     1537   \n",
       "Balance Sheet - Assets - Current - Accounts Rec...     2628   \n",
       "Income Statement - Expenses - Operating - Supplies     1781   \n",
       "Income Statement - Expenses - Operating - Repai...      392   \n",
       "Balance Sheet - Liabilities - Current - Accrued...     1156   \n",
       "Balance Sheet - Liabilities - Current - Due to ...      212   \n",
       "Income Statement - Expenses - Operating - Suppl...     1469   \n",
       "Balance Sheet - Assets - Inventory - Inventory          585   \n",
       "Balance Sheet - Debt - Long Term - Long Term Debt       338   \n",
       "Income Statement - Expenses - Operating - Utili...      464   \n",
       "Income Statement - Expenses - Operating - Purch...      699   \n",
       "Income Statement - Revenue - Other - Nonoperati...      325   \n",
       "Income Statement - Expenses - Operating - Infor...      370   \n",
       "Balance Sheet - Liabilities - Accounts Payable ...      472   \n",
       "Balance Sheet - Assets - Current - Accounts Rec...      314   \n",
       "Balance Sheet - Net Assets - Unrestricted - Unr...     2072   \n",
       "Balance Sheet - Assets - Current - Cash and Cas...      863   \n",
       "Balance Sheet - Assets - Investment - Other Inv...      349   \n",
       "Balance Sheet - Assets - Accounts Receivable Co...      358   \n",
       "Balance Sheet - Assets - Depreciable - Property...      495   \n",
       "Income Statement - Expenses - Operating - Contr...      272   \n",
       "Income Statement - Expenses - Operating - Other...      553   \n",
       "Balance Sheet - Assets - CIP - CIP                     1402   \n",
       "Balance Sheet - Assets - Accumulated Depreciati...      304   \n",
       "Income Statement - Expenses - Operating - Other...     8303   \n",
       "Income Statement - Expenses - Operating - Salaries     6199   \n",
       "Income Statement - Expenses - Operating - Purch...      448   \n",
       "Balance Sheet - Assets - Accounts Receivable Al...      356   \n",
       "Income Statement - Expenses - Operating - Salar...      755   \n",
       "Income Statement - Expenses - Operating - Drugs         816   \n",
       "Income Statement - Revenue - Other - Nonoperati...     1305   \n",
       "Balance Sheet - Net Assets - Permantly Restrict...      692   \n",
       "Income Statement - Expenses - Operating - Suppl...      345   \n",
       "Income Statement - Revenue - Other - Operating ...      874   \n",
       "\n",
       "                                                    mean_confidence_score  \\\n",
       "label_pred                                                                  \n",
       "Income Statement - Revenue - Other - Operating ...               0.895606   \n",
       "Income Statement - Revenue - Other - Operating ...               0.754427   \n",
       "Income Statement - Revenue Deduction - Bad Debt                  0.804025   \n",
       "Income Statement - Revenue Deduction - Charity ...               0.830563   \n",
       "Income Statement - Revenue - Patient - Gross - ...               0.801019   \n",
       "Income Statement - Revenue - Other - Nonoperati...               0.363166   \n",
       "Income Statement - Expenses - Operating - Other...               0.514460   \n",
       "Income Statement - Expenses - Operating - Benef...               0.526238   \n",
       "Balance Sheet - Liabilities - Current - Accrued...               0.795951   \n",
       "Income Statement - Expenses - Operating - Profe...               0.680874   \n",
       "Unable -  to - Categorize                                        0.537102   \n",
       "Balance Sheet - Assets - Investment - Assets Li...               0.564009   \n",
       "Income Statement - Revenue - Patient - Gross - ...               0.811683   \n",
       "Income Statement - Expenses - Operating - Suppl...               0.825084   \n",
       "Balance Sheet - Net Assets - Temporarily Restri...               0.850888   \n",
       "Balance Sheet - Assets - Noncurrent - Other Non...               0.517093   \n",
       "Income Statement - Revenue Deduction - Contract...               0.722133   \n",
       "Income Statement - Expenses - Operating - Benef...               0.865521   \n",
       "Income Statement - Expenses - Operating - Purch...               0.676765   \n",
       "Balance Sheet - Assets - Current - Prepaid Expense               0.893758   \n",
       "Balance Sheet - Liabilities - Current - Other C...               0.590487   \n",
       "Income Statement - Expenses - Interest - Interest                0.840740   \n",
       "Balance Sheet - Assets - Patient Accounts Recei...               0.498250   \n",
       "Balance Sheet - Liabilities - Noncurrent - Long...               0.282019   \n",
       "Balance Sheet - Assets - Current - Accounts Rec...               0.506475   \n",
       "Income Statement - Expenses - Operating - Supplies               0.638274   \n",
       "Income Statement - Expenses - Operating - Repai...               0.767995   \n",
       "Balance Sheet - Liabilities - Current - Accrued...               0.631855   \n",
       "Balance Sheet - Liabilities - Current - Due to ...               0.631094   \n",
       "Income Statement - Expenses - Operating - Suppl...               0.719685   \n",
       "Balance Sheet - Assets - Inventory - Inventory                   0.855760   \n",
       "Balance Sheet - Debt - Long Term - Long Term Debt                0.736886   \n",
       "Income Statement - Expenses - Operating - Utili...               0.726792   \n",
       "Income Statement - Expenses - Operating - Purch...               0.745318   \n",
       "Income Statement - Revenue - Other - Nonoperati...               0.848284   \n",
       "Income Statement - Expenses - Operating - Infor...               0.698390   \n",
       "Balance Sheet - Liabilities - Accounts Payable ...               0.770353   \n",
       "Balance Sheet - Assets - Current - Accounts Rec...               0.567973   \n",
       "Balance Sheet - Net Assets - Unrestricted - Unr...               0.929447   \n",
       "Balance Sheet - Assets - Current - Cash and Cas...               0.814029   \n",
       "Balance Sheet - Assets - Investment - Other Inv...               0.523339   \n",
       "Balance Sheet - Assets - Accounts Receivable Co...               0.549957   \n",
       "Balance Sheet - Assets - Depreciable - Property...               0.589170   \n",
       "Income Statement - Expenses - Operating - Contr...               0.772049   \n",
       "Income Statement - Expenses - Operating - Other...               0.805511   \n",
       "Balance Sheet - Assets - CIP - CIP                               0.866332   \n",
       "Balance Sheet - Assets - Accumulated Depreciati...               0.801446   \n",
       "Income Statement - Expenses - Operating - Other...               0.548705   \n",
       "Income Statement - Expenses - Operating - Salaries               0.748432   \n",
       "Income Statement - Expenses - Operating - Purch...               0.772601   \n",
       "Balance Sheet - Assets - Accounts Receivable Al...               0.591510   \n",
       "Income Statement - Expenses - Operating - Salar...               0.710203   \n",
       "Income Statement - Expenses - Operating - Drugs                  0.577063   \n",
       "Income Statement - Revenue - Other - Nonoperati...               0.448831   \n",
       "Balance Sheet - Net Assets - Permantly Restrict...               0.436494   \n",
       "Income Statement - Expenses - Operating - Suppl...               0.531864   \n",
       "Income Statement - Revenue - Other - Operating ...               0.452910   \n",
       "\n",
       "                                                    proportion_correct  \\\n",
       "label_pred                                                               \n",
       "Income Statement - Revenue - Other - Operating ...            0.032258   \n",
       "Income Statement - Revenue - Other - Operating ...            0.170626   \n",
       "Income Statement - Revenue Deduction - Bad Debt               0.387805   \n",
       "Income Statement - Revenue Deduction - Charity ...            0.463415   \n",
       "Income Statement - Revenue - Patient - Gross - ...            0.453664   \n",
       "Income Statement - Revenue - Other - Nonoperati...            0.036073   \n",
       "Income Statement - Expenses - Operating - Other...            0.192661   \n",
       "Income Statement - Expenses - Operating - Benef...            0.226277   \n",
       "Balance Sheet - Liabilities - Current - Accrued...            0.508361   \n",
       "Income Statement - Expenses - Operating - Profe...            0.403888   \n",
       "Unable -  to - Categorize                                     0.270903   \n",
       "Balance Sheet - Assets - Investment - Assets Li...            0.311024   \n",
       "Income Statement - Revenue - Patient - Gross - ...            0.561798   \n",
       "Income Statement - Expenses - Operating - Suppl...            0.588785   \n",
       "Balance Sheet - Net Assets - Temporarily Restri...            0.623301   \n",
       "Balance Sheet - Assets - Noncurrent - Other Non...            0.337989   \n",
       "Income Statement - Revenue Deduction - Contract...            0.556576   \n",
       "Income Statement - Expenses - Operating - Benef...            0.710818   \n",
       "Income Statement - Expenses - Operating - Purch...            0.547068   \n",
       "Balance Sheet - Assets - Current - Prepaid Expense            0.765677   \n",
       "Balance Sheet - Liabilities - Current - Other C...            0.478689   \n",
       "Income Statement - Expenses - Interest - Interest             0.738162   \n",
       "Balance Sheet - Assets - Patient Accounts Recei...            0.398496   \n",
       "Balance Sheet - Liabilities - Noncurrent - Long...            0.186727   \n",
       "Balance Sheet - Assets - Current - Accounts Rec...            0.412100   \n",
       "Income Statement - Expenses - Operating - Supplies            0.554183   \n",
       "Income Statement - Expenses - Operating - Repai...            0.686224   \n",
       "Balance Sheet - Liabilities - Current - Accrued...            0.554498   \n",
       "Balance Sheet - Liabilities - Current - Due to ...            0.561321   \n",
       "Income Statement - Expenses - Operating - Suppl...            0.663036   \n",
       "Balance Sheet - Assets - Inventory - Inventory                0.801709   \n",
       "Balance Sheet - Debt - Long Term - Long Term Debt             0.701183   \n",
       "Income Statement - Expenses - Operating - Utili...            0.704741   \n",
       "Income Statement - Expenses - Operating - Purch...            0.753934   \n",
       "Income Statement - Revenue - Other - Nonoperati...            0.858462   \n",
       "Income Statement - Expenses - Operating - Infor...            0.710811   \n",
       "Balance Sheet - Liabilities - Accounts Payable ...            0.783898   \n",
       "Balance Sheet - Assets - Current - Accounts Rec...            0.595541   \n",
       "Balance Sheet - Net Assets - Unrestricted - Unr...            0.961390   \n",
       "Balance Sheet - Assets - Current - Cash and Cas...            0.855156   \n",
       "Balance Sheet - Assets - Investment - Other Inv...            0.573066   \n",
       "Balance Sheet - Assets - Accounts Receivable Co...            0.600559   \n",
       "Balance Sheet - Assets - Depreciable - Property...            0.640404   \n",
       "Income Statement - Expenses - Operating - Contr...            0.838235   \n",
       "Income Statement - Expenses - Operating - Other...            0.877034   \n",
       "Balance Sheet - Assets - CIP - CIP                            0.960770   \n",
       "Balance Sheet - Assets - Accumulated Depreciati...            0.901316   \n",
       "Income Statement - Expenses - Operating - Other...            0.651933   \n",
       "Income Statement - Expenses - Operating - Salaries            0.896435   \n",
       "Income Statement - Expenses - Operating - Purch...            0.950893   \n",
       "Balance Sheet - Assets - Accounts Receivable Al...            0.789326   \n",
       "Income Statement - Expenses - Operating - Salar...            0.953642   \n",
       "Income Statement - Expenses - Operating - Drugs               0.867647   \n",
       "Income Statement - Revenue - Other - Nonoperati...            0.783142   \n",
       "Balance Sheet - Net Assets - Permantly Restrict...            0.787572   \n",
       "Income Statement - Expenses - Operating - Suppl...            0.944928   \n",
       "Income Statement - Revenue - Other - Operating ...            0.967963   \n",
       "\n",
       "                                                    difference  \n",
       "label_pred                                                      \n",
       "Income Statement - Revenue - Other - Operating ...   -0.863348  \n",
       "Income Statement - Revenue - Other - Operating ...   -0.583802  \n",
       "Income Statement - Revenue Deduction - Bad Debt      -0.416220  \n",
       "Income Statement - Revenue Deduction - Charity ...   -0.367149  \n",
       "Income Statement - Revenue - Patient - Gross - ...   -0.347355  \n",
       "Income Statement - Revenue - Other - Nonoperati...   -0.327093  \n",
       "Income Statement - Expenses - Operating - Other...   -0.321799  \n",
       "Income Statement - Expenses - Operating - Benef...   -0.299961  \n",
       "Balance Sheet - Liabilities - Current - Accrued...   -0.287590  \n",
       "Income Statement - Expenses - Operating - Profe...   -0.276987  \n",
       "Unable -  to - Categorize                            -0.266199  \n",
       "Balance Sheet - Assets - Investment - Assets Li...   -0.252985  \n",
       "Income Statement - Revenue - Patient - Gross - ...   -0.249886  \n",
       "Income Statement - Expenses - Operating - Suppl...   -0.236299  \n",
       "Balance Sheet - Net Assets - Temporarily Restri...   -0.227588  \n",
       "Balance Sheet - Assets - Noncurrent - Other Non...   -0.179104  \n",
       "Income Statement - Revenue Deduction - Contract...   -0.165557  \n",
       "Income Statement - Expenses - Operating - Benef...   -0.154703  \n",
       "Income Statement - Expenses - Operating - Purch...   -0.129697  \n",
       "Balance Sheet - Assets - Current - Prepaid Expense   -0.128081  \n",
       "Balance Sheet - Liabilities - Current - Other C...   -0.111798  \n",
       "Income Statement - Expenses - Interest - Interest    -0.102578  \n",
       "Balance Sheet - Assets - Patient Accounts Recei...   -0.099753  \n",
       "Balance Sheet - Liabilities - Noncurrent - Long...   -0.095292  \n",
       "Balance Sheet - Assets - Current - Accounts Rec...   -0.094375  \n",
       "Income Statement - Expenses - Operating - Supplies   -0.084091  \n",
       "Income Statement - Expenses - Operating - Repai...   -0.081771  \n",
       "Balance Sheet - Liabilities - Current - Accrued...   -0.077357  \n",
       "Balance Sheet - Liabilities - Current - Due to ...   -0.069773  \n",
       "Income Statement - Expenses - Operating - Suppl...   -0.056649  \n",
       "Balance Sheet - Assets - Inventory - Inventory       -0.054050  \n",
       "Balance Sheet - Debt - Long Term - Long Term Debt    -0.035703  \n",
       "Income Statement - Expenses - Operating - Utili...   -0.022051  \n",
       "Income Statement - Expenses - Operating - Purch...    0.008617  \n",
       "Income Statement - Revenue - Other - Nonoperati...    0.010178  \n",
       "Income Statement - Expenses - Operating - Infor...    0.012421  \n",
       "Balance Sheet - Liabilities - Accounts Payable ...    0.013546  \n",
       "Balance Sheet - Assets - Current - Accounts Rec...    0.027569  \n",
       "Balance Sheet - Net Assets - Unrestricted - Unr...    0.031943  \n",
       "Balance Sheet - Assets - Current - Cash and Cas...    0.041127  \n",
       "Balance Sheet - Assets - Investment - Other Inv...    0.049727  \n",
       "Balance Sheet - Assets - Accounts Receivable Co...    0.050601  \n",
       "Balance Sheet - Assets - Depreciable - Property...    0.051234  \n",
       "Income Statement - Expenses - Operating - Contr...    0.066186  \n",
       "Income Statement - Expenses - Operating - Other...    0.071523  \n",
       "Balance Sheet - Assets - CIP - CIP                    0.094438  \n",
       "Balance Sheet - Assets - Accumulated Depreciati...    0.099870  \n",
       "Income Statement - Expenses - Operating - Other...    0.103228  \n",
       "Income Statement - Expenses - Operating - Salaries    0.148003  \n",
       "Income Statement - Expenses - Operating - Purch...    0.178292  \n",
       "Balance Sheet - Assets - Accounts Receivable Al...    0.197816  \n",
       "Income Statement - Expenses - Operating - Salar...    0.243439  \n",
       "Income Statement - Expenses - Operating - Drugs       0.290584  \n",
       "Income Statement - Revenue - Other - Nonoperati...    0.334311  \n",
       "Balance Sheet - Net Assets - Permantly Restrict...    0.351078  \n",
       "Income Statement - Expenses - Operating - Suppl...    0.413063  \n",
       "Income Statement - Revenue - Other - Operating ...    0.515053  "
      ]
     },
     "execution_count": 70,
     "metadata": {},
     "output_type": "execute_result"
    }
   ],
   "source": [
    "by_label = dfm.groupby('label_pred').agg({'row_cnt': 'sum', 'confidence': 'mean', 'label': 'mean'})\n",
    "by_label['difference'] = by_label['label'] - by_label['confidence']\n",
    "by_label = by_label.rename(columns={'confidence':'mean_confidence_score','label':'proportion_correct'})\n",
    "by_label.loc[by_label.row_cnt>200].sort_values(by=['difference'])"
   ]
  },
  {
   "cell_type": "code",
   "execution_count": 71,
   "id": "6560a920-a7a4-4702-9492-9b0c107e58e8",
   "metadata": {},
   "outputs": [],
   "source": [
    "by_label.loc[by_label.row_cnt>50].sort_values(by=['difference']).to_csv('C:/Users/hwallace/glaccount/by_label.csv')"
   ]
  },
  {
   "cell_type": "code",
   "execution_count": null,
   "id": "943e1a6d-1549-48f7-91e7-d315b2f84626",
   "metadata": {},
   "outputs": [],
   "source": []
  },
  {
   "cell_type": "markdown",
   "id": "c5147354-2385-4740-b1e9-08f4366a1c05",
   "metadata": {},
   "source": [
    "## Similar story by org. The model does poor on many orgs, and it does great on others. The model clearly needs a refit or rebuild for better performance."
   ]
  },
  {
   "cell_type": "code",
   "execution_count": 72,
   "id": "5fea2677-160b-4375-a7a5-cab32071470b",
   "metadata": {},
   "outputs": [
    {
     "data": {
      "text/html": [
       "<div>\n",
       "<style scoped>\n",
       "    .dataframe tbody tr th:only-of-type {\n",
       "        vertical-align: middle;\n",
       "    }\n",
       "\n",
       "    .dataframe tbody tr th {\n",
       "        vertical-align: top;\n",
       "    }\n",
       "\n",
       "    .dataframe thead th {\n",
       "        text-align: right;\n",
       "    }\n",
       "</style>\n",
       "<table border=\"1\" class=\"dataframe\">\n",
       "  <thead>\n",
       "    <tr style=\"text-align: right;\">\n",
       "      <th></th>\n",
       "      <th>row_cnt</th>\n",
       "      <th>mean_confidence_score</th>\n",
       "      <th>proportion_correct</th>\n",
       "      <th>difference</th>\n",
       "    </tr>\n",
       "    <tr>\n",
       "      <th>orgpin</th>\n",
       "      <th></th>\n",
       "      <th></th>\n",
       "      <th></th>\n",
       "      <th></th>\n",
       "    </tr>\n",
       "  </thead>\n",
       "  <tbody>\n",
       "    <tr>\n",
       "      <th>3105</th>\n",
       "      <td>3216</td>\n",
       "      <td>0.796558</td>\n",
       "      <td>0.005908</td>\n",
       "      <td>-0.790650</td>\n",
       "    </tr>\n",
       "    <tr>\n",
       "      <th>2734</th>\n",
       "      <td>4993</td>\n",
       "      <td>0.873153</td>\n",
       "      <td>0.235530</td>\n",
       "      <td>-0.637624</td>\n",
       "    </tr>\n",
       "    <tr>\n",
       "      <th>1166</th>\n",
       "      <td>273</td>\n",
       "      <td>0.660034</td>\n",
       "      <td>0.029304</td>\n",
       "      <td>-0.630730</td>\n",
       "    </tr>\n",
       "    <tr>\n",
       "      <th>3179</th>\n",
       "      <td>66</td>\n",
       "      <td>0.659889</td>\n",
       "      <td>0.151515</td>\n",
       "      <td>-0.508374</td>\n",
       "    </tr>\n",
       "    <tr>\n",
       "      <th>3336</th>\n",
       "      <td>1960</td>\n",
       "      <td>0.731790</td>\n",
       "      <td>0.431122</td>\n",
       "      <td>-0.300668</td>\n",
       "    </tr>\n",
       "    <tr>\n",
       "      <th>2980</th>\n",
       "      <td>125</td>\n",
       "      <td>0.484460</td>\n",
       "      <td>0.192000</td>\n",
       "      <td>-0.292460</td>\n",
       "    </tr>\n",
       "    <tr>\n",
       "      <th>2993</th>\n",
       "      <td>243</td>\n",
       "      <td>0.800238</td>\n",
       "      <td>0.510288</td>\n",
       "      <td>-0.289950</td>\n",
       "    </tr>\n",
       "    <tr>\n",
       "      <th>3396</th>\n",
       "      <td>513</td>\n",
       "      <td>0.643546</td>\n",
       "      <td>0.387914</td>\n",
       "      <td>-0.255632</td>\n",
       "    </tr>\n",
       "    <tr>\n",
       "      <th>1259</th>\n",
       "      <td>2085</td>\n",
       "      <td>0.700254</td>\n",
       "      <td>0.471463</td>\n",
       "      <td>-0.228791</td>\n",
       "    </tr>\n",
       "    <tr>\n",
       "      <th>3126</th>\n",
       "      <td>971</td>\n",
       "      <td>0.662127</td>\n",
       "      <td>0.478888</td>\n",
       "      <td>-0.183239</td>\n",
       "    </tr>\n",
       "    <tr>\n",
       "      <th>2992</th>\n",
       "      <td>100</td>\n",
       "      <td>0.665547</td>\n",
       "      <td>0.490000</td>\n",
       "      <td>-0.175547</td>\n",
       "    </tr>\n",
       "    <tr>\n",
       "      <th>3214</th>\n",
       "      <td>60</td>\n",
       "      <td>0.643901</td>\n",
       "      <td>0.483333</td>\n",
       "      <td>-0.160567</td>\n",
       "    </tr>\n",
       "    <tr>\n",
       "      <th>3220</th>\n",
       "      <td>65</td>\n",
       "      <td>0.804733</td>\n",
       "      <td>0.646154</td>\n",
       "      <td>-0.158580</td>\n",
       "    </tr>\n",
       "    <tr>\n",
       "      <th>1854</th>\n",
       "      <td>85</td>\n",
       "      <td>0.746393</td>\n",
       "      <td>0.588235</td>\n",
       "      <td>-0.158157</td>\n",
       "    </tr>\n",
       "    <tr>\n",
       "      <th>1430</th>\n",
       "      <td>430</td>\n",
       "      <td>0.804498</td>\n",
       "      <td>0.646512</td>\n",
       "      <td>-0.157986</td>\n",
       "    </tr>\n",
       "    <tr>\n",
       "      <th>3121</th>\n",
       "      <td>181</td>\n",
       "      <td>0.655039</td>\n",
       "      <td>0.502762</td>\n",
       "      <td>-0.152277</td>\n",
       "    </tr>\n",
       "    <tr>\n",
       "      <th>1195</th>\n",
       "      <td>2536</td>\n",
       "      <td>0.627048</td>\n",
       "      <td>0.481073</td>\n",
       "      <td>-0.145975</td>\n",
       "    </tr>\n",
       "    <tr>\n",
       "      <th>1829</th>\n",
       "      <td>1470</td>\n",
       "      <td>0.725500</td>\n",
       "      <td>0.595918</td>\n",
       "      <td>-0.129581</td>\n",
       "    </tr>\n",
       "    <tr>\n",
       "      <th>3368</th>\n",
       "      <td>2039</td>\n",
       "      <td>0.677514</td>\n",
       "      <td>0.551251</td>\n",
       "      <td>-0.126264</td>\n",
       "    </tr>\n",
       "    <tr>\n",
       "      <th>3146</th>\n",
       "      <td>56</td>\n",
       "      <td>0.691372</td>\n",
       "      <td>0.589286</td>\n",
       "      <td>-0.102086</td>\n",
       "    </tr>\n",
       "    <tr>\n",
       "      <th>1282</th>\n",
       "      <td>1048</td>\n",
       "      <td>0.827301</td>\n",
       "      <td>0.726145</td>\n",
       "      <td>-0.101156</td>\n",
       "    </tr>\n",
       "    <tr>\n",
       "      <th>2717</th>\n",
       "      <td>113</td>\n",
       "      <td>0.826275</td>\n",
       "      <td>0.725664</td>\n",
       "      <td>-0.100611</td>\n",
       "    </tr>\n",
       "    <tr>\n",
       "      <th>1130</th>\n",
       "      <td>194</td>\n",
       "      <td>0.716193</td>\n",
       "      <td>0.618557</td>\n",
       "      <td>-0.097636</td>\n",
       "    </tr>\n",
       "    <tr>\n",
       "      <th>3303</th>\n",
       "      <td>290</td>\n",
       "      <td>0.791611</td>\n",
       "      <td>0.710345</td>\n",
       "      <td>-0.081267</td>\n",
       "    </tr>\n",
       "    <tr>\n",
       "      <th>3389</th>\n",
       "      <td>458</td>\n",
       "      <td>0.757494</td>\n",
       "      <td>0.681223</td>\n",
       "      <td>-0.076271</td>\n",
       "    </tr>\n",
       "    <tr>\n",
       "      <th>3398</th>\n",
       "      <td>1311</td>\n",
       "      <td>0.595413</td>\n",
       "      <td>0.549199</td>\n",
       "      <td>-0.046214</td>\n",
       "    </tr>\n",
       "    <tr>\n",
       "      <th>3314</th>\n",
       "      <td>54</td>\n",
       "      <td>0.535184</td>\n",
       "      <td>0.500000</td>\n",
       "      <td>-0.035184</td>\n",
       "    </tr>\n",
       "    <tr>\n",
       "      <th>2957</th>\n",
       "      <td>454</td>\n",
       "      <td>0.737339</td>\n",
       "      <td>0.711454</td>\n",
       "      <td>-0.025885</td>\n",
       "    </tr>\n",
       "    <tr>\n",
       "      <th>1975</th>\n",
       "      <td>275</td>\n",
       "      <td>0.697464</td>\n",
       "      <td>0.672727</td>\n",
       "      <td>-0.024736</td>\n",
       "    </tr>\n",
       "    <tr>\n",
       "      <th>3268</th>\n",
       "      <td>918</td>\n",
       "      <td>0.682287</td>\n",
       "      <td>0.674292</td>\n",
       "      <td>-0.007995</td>\n",
       "    </tr>\n",
       "    <tr>\n",
       "      <th>1274</th>\n",
       "      <td>282</td>\n",
       "      <td>0.615063</td>\n",
       "      <td>0.609929</td>\n",
       "      <td>-0.005134</td>\n",
       "    </tr>\n",
       "    <tr>\n",
       "      <th>3113</th>\n",
       "      <td>62</td>\n",
       "      <td>0.444959</td>\n",
       "      <td>0.451613</td>\n",
       "      <td>0.006653</td>\n",
       "    </tr>\n",
       "    <tr>\n",
       "      <th>2969</th>\n",
       "      <td>646</td>\n",
       "      <td>0.739805</td>\n",
       "      <td>0.747678</td>\n",
       "      <td>0.007873</td>\n",
       "    </tr>\n",
       "    <tr>\n",
       "      <th>1178</th>\n",
       "      <td>281</td>\n",
       "      <td>0.813735</td>\n",
       "      <td>0.854093</td>\n",
       "      <td>0.040358</td>\n",
       "    </tr>\n",
       "    <tr>\n",
       "      <th>3278</th>\n",
       "      <td>963</td>\n",
       "      <td>0.581939</td>\n",
       "      <td>0.627207</td>\n",
       "      <td>0.045268</td>\n",
       "    </tr>\n",
       "    <tr>\n",
       "      <th>3392</th>\n",
       "      <td>394</td>\n",
       "      <td>0.557985</td>\n",
       "      <td>0.609137</td>\n",
       "      <td>0.051152</td>\n",
       "    </tr>\n",
       "    <tr>\n",
       "      <th>3266</th>\n",
       "      <td>1151</td>\n",
       "      <td>0.717339</td>\n",
       "      <td>0.770634</td>\n",
       "      <td>0.053295</td>\n",
       "    </tr>\n",
       "    <tr>\n",
       "      <th>1152</th>\n",
       "      <td>39947</td>\n",
       "      <td>0.631295</td>\n",
       "      <td>0.687361</td>\n",
       "      <td>0.056066</td>\n",
       "    </tr>\n",
       "    <tr>\n",
       "      <th>3175</th>\n",
       "      <td>255</td>\n",
       "      <td>0.738793</td>\n",
       "      <td>0.803922</td>\n",
       "      <td>0.065128</td>\n",
       "    </tr>\n",
       "    <tr>\n",
       "      <th>3234</th>\n",
       "      <td>1020</td>\n",
       "      <td>0.706335</td>\n",
       "      <td>0.782353</td>\n",
       "      <td>0.076017</td>\n",
       "    </tr>\n",
       "    <tr>\n",
       "      <th>3218</th>\n",
       "      <td>121</td>\n",
       "      <td>0.396549</td>\n",
       "      <td>0.537190</td>\n",
       "      <td>0.140641</td>\n",
       "    </tr>\n",
       "    <tr>\n",
       "      <th>2724</th>\n",
       "      <td>62</td>\n",
       "      <td>0.762111</td>\n",
       "      <td>0.919355</td>\n",
       "      <td>0.157244</td>\n",
       "    </tr>\n",
       "    <tr>\n",
       "      <th>3235</th>\n",
       "      <td>257</td>\n",
       "      <td>0.659840</td>\n",
       "      <td>0.828794</td>\n",
       "      <td>0.168953</td>\n",
       "    </tr>\n",
       "    <tr>\n",
       "      <th>3123</th>\n",
       "      <td>504</td>\n",
       "      <td>0.705120</td>\n",
       "      <td>0.948413</td>\n",
       "      <td>0.243292</td>\n",
       "    </tr>\n",
       "  </tbody>\n",
       "</table>\n",
       "</div>"
      ],
      "text/plain": [
       "        row_cnt  mean_confidence_score  proportion_correct  difference\n",
       "orgpin                                                                \n",
       "3105       3216               0.796558            0.005908   -0.790650\n",
       "2734       4993               0.873153            0.235530   -0.637624\n",
       "1166        273               0.660034            0.029304   -0.630730\n",
       "3179         66               0.659889            0.151515   -0.508374\n",
       "3336       1960               0.731790            0.431122   -0.300668\n",
       "2980        125               0.484460            0.192000   -0.292460\n",
       "2993        243               0.800238            0.510288   -0.289950\n",
       "3396        513               0.643546            0.387914   -0.255632\n",
       "1259       2085               0.700254            0.471463   -0.228791\n",
       "3126        971               0.662127            0.478888   -0.183239\n",
       "2992        100               0.665547            0.490000   -0.175547\n",
       "3214         60               0.643901            0.483333   -0.160567\n",
       "3220         65               0.804733            0.646154   -0.158580\n",
       "1854         85               0.746393            0.588235   -0.158157\n",
       "1430        430               0.804498            0.646512   -0.157986\n",
       "3121        181               0.655039            0.502762   -0.152277\n",
       "1195       2536               0.627048            0.481073   -0.145975\n",
       "1829       1470               0.725500            0.595918   -0.129581\n",
       "3368       2039               0.677514            0.551251   -0.126264\n",
       "3146         56               0.691372            0.589286   -0.102086\n",
       "1282       1048               0.827301            0.726145   -0.101156\n",
       "2717        113               0.826275            0.725664   -0.100611\n",
       "1130        194               0.716193            0.618557   -0.097636\n",
       "3303        290               0.791611            0.710345   -0.081267\n",
       "3389        458               0.757494            0.681223   -0.076271\n",
       "3398       1311               0.595413            0.549199   -0.046214\n",
       "3314         54               0.535184            0.500000   -0.035184\n",
       "2957        454               0.737339            0.711454   -0.025885\n",
       "1975        275               0.697464            0.672727   -0.024736\n",
       "3268        918               0.682287            0.674292   -0.007995\n",
       "1274        282               0.615063            0.609929   -0.005134\n",
       "3113         62               0.444959            0.451613    0.006653\n",
       "2969        646               0.739805            0.747678    0.007873\n",
       "1178        281               0.813735            0.854093    0.040358\n",
       "3278        963               0.581939            0.627207    0.045268\n",
       "3392        394               0.557985            0.609137    0.051152\n",
       "3266       1151               0.717339            0.770634    0.053295\n",
       "1152      39947               0.631295            0.687361    0.056066\n",
       "3175        255               0.738793            0.803922    0.065128\n",
       "3234       1020               0.706335            0.782353    0.076017\n",
       "3218        121               0.396549            0.537190    0.140641\n",
       "2724         62               0.762111            0.919355    0.157244\n",
       "3235        257               0.659840            0.828794    0.168953\n",
       "3123        504               0.705120            0.948413    0.243292"
      ]
     },
     "execution_count": 72,
     "metadata": {},
     "output_type": "execute_result"
    }
   ],
   "source": [
    "by_label = dfm.groupby('orgpin').agg({'row_cnt': 'sum', 'confidence': 'mean', 'label': 'mean'})\n",
    "by_label['difference'] = by_label['label'] - by_label['confidence']\n",
    "by_label = by_label.rename(columns={'confidence':'mean_confidence_score','label':'proportion_correct'})\n",
    "by_label.loc[by_label.row_cnt>50].sort_values(by=['difference'])"
   ]
  },
  {
   "cell_type": "code",
   "execution_count": 73,
   "id": "d6294efb-a065-4e67-bae3-7dac039926d5",
   "metadata": {},
   "outputs": [
    {
     "data": {
      "image/png": "[encoded data removed]",
      "text/plain": [
       "<Figure size 640x480 with 1 Axes>"
      ]
     },
     "metadata": {},
     "output_type": "display_data"
    }
   ],
   "source": [
    "client3105 = dfm[dfm.orgpin=='3105']\n",
    "disp = CalibrationDisplay.from_predictions(client3105['label'], client3105['confidence'], n_bins=20, strategy='quantile')"
   ]
  },
  {
   "cell_type": "code",
   "execution_count": 74,
   "id": "156e1e29-2c96-4e86-9308-e495e2816516",
   "metadata": {},
   "outputs": [
    {
     "data": {
      "image/png": "[encoded data removed]",
      "text/plain": [
       "<Figure size 640x480 with 1 Axes>"
      ]
     },
     "metadata": {},
     "output_type": "display_data"
    }
   ],
   "source": [
    "client1152 = dfm[dfm.orgpin=='1152']\n",
    "disp = CalibrationDisplay.from_predictions(client1152['label'], client1152['confidence'], n_bins=20, strategy='quantile')"
   ]
  },
  {
   "cell_type": "code",
   "execution_count": 75,
   "id": "2219ae83-fbad-4a1e-ab55-ccefcb42f024",
   "metadata": {},
   "outputs": [
    {
     "data": {
      "text/plain": [
       "<Axes: xlabel='confidence', ylabel='Count'>"
      ]
     },
     "execution_count": 75,
     "metadata": {},
     "output_type": "execute_result"
    },
    {
     "data": {
      "image/png": "[encoded data removed]",
      "text/plain": [
       "<Figure size 640x480 with 1 Axes>"
      ]
     },
     "metadata": {},
     "output_type": "display_data"
    }
   ],
   "source": [
    "sns.histplot(dfm['confidence'])"
   ]
  },
  {
   "cell_type": "code",
   "execution_count": null,
   "id": "ad9b3c99-52df-4778-9ab9-b165b5422577",
   "metadata": {},
   "outputs": [],
   "source": []
  }
 ],
 "metadata": {
  "kernelspec": {
   "display_name": "custom_venv2",
   "language": "python",
   "name": "custom_venv2"
  },
  "language_info": {
   "codemirror_mode": {
    "name": "ipython",
    "version": 3
   },
   "file_extension": ".py",
   "mimetype": "text/x-python",
   "name": "python",
   "nbconvert_exporter": "python",
   "pygments_lexer": "ipython3",
   "version": "3.9.7"
  }
 },
 "nbformat": 4,
 "nbformat_minor": 5
}
